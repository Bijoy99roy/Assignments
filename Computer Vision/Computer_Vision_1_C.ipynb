{
  "nbformat": 4,
  "nbformat_minor": 0,
  "metadata": {
    "colab": {
      "name": "Computer_Vision 1 C.ipynb",
      "provenance": []
    },
    "kernelspec": {
      "name": "python3",
      "display_name": "Python 3"
    },
    "language_info": {
      "name": "python"
    }
  },
  "cells": [
    {
      "cell_type": "markdown",
      "metadata": {
        "id": "LtdtdhC7hR36"
      },
      "source": [
        "## 1. What exactly is a feature?\n"
      ]
    },
    {
      "cell_type": "code",
      "metadata": {
        "id": "Oi2zmkbrhF5t"
      },
      "source": [
        "'''\n",
        "A feature is a part or pattern of an object in an image that identifies it.\n",
        "'''"
      ],
      "execution_count": null,
      "outputs": []
    },
    {
      "cell_type": "markdown",
      "metadata": {
        "id": "OMUefV4bhirA"
      },
      "source": [
        "## 2. For a top edge detector, write out the convolutional kernel matrix.\n"
      ]
    },
    {
      "cell_type": "code",
      "metadata": {
        "id": "EoSnYKi2hj0n"
      },
      "source": [
        "[[-1, -1, -1],\n",
        " [0, 0, 0],\n",
        " [1, 1, 1]]"
      ],
      "execution_count": null,
      "outputs": []
    },
    {
      "cell_type": "markdown",
      "metadata": {
        "id": "CiPQ2Xlth5Jc"
      },
      "source": [
        "## 3. Describe the mathematical operation that a 3x3 kernel performs on a single pixel in an image"
      ]
    },
    {
      "cell_type": "code",
      "metadata": {
        "id": "CEBirq5Ih6wu"
      },
      "source": [
        "'''\n",
        "The kernel does matrix multiplication with the resprective pixels in the image. And as for a 3x3 kernel can't be applied on a single pixel\n",
        "'''"
      ],
      "execution_count": null,
      "outputs": []
    },
    {
      "cell_type": "markdown",
      "metadata": {
        "id": "TVmbc_Rvi5RA"
      },
      "source": [
        "## 4. What is the significance of a convolutional kernel added to a 3x3 matrix of zeroes?\n"
      ]
    },
    {
      "cell_type": "code",
      "metadata": {
        "id": "mGcEyjAMi6c7"
      },
      "source": [
        "'''\n",
        "No significance because adding matrix of zeros neither decreases or increases the kernal values\n",
        "'''"
      ],
      "execution_count": null,
      "outputs": []
    },
    {
      "cell_type": "markdown",
      "metadata": {
        "id": "p5JDZK0_jVYN"
      },
      "source": [
        "## 5. What exactly is padding?\n"
      ]
    },
    {
      "cell_type": "code",
      "metadata": {
        "id": "SnXGzXIPjW1e"
      },
      "source": [
        "'''\n",
        "Padding is a process of surrounding an image with zeros.\n",
        "'''"
      ],
      "execution_count": null,
      "outputs": []
    },
    {
      "cell_type": "markdown",
      "metadata": {
        "id": "TY-X3VJIjqVg"
      },
      "source": [
        "## 6. What is the concept of stride?\n"
      ]
    },
    {
      "cell_type": "code",
      "metadata": {
        "id": "SGaydj2Bjt--"
      },
      "source": [
        "'''\n",
        "Stride denotes the number of steps to move after performing a single matrix multiplixation with the image and kernel\n",
        "'''"
      ],
      "execution_count": null,
      "outputs": []
    },
    {
      "cell_type": "markdown",
      "metadata": {
        "id": "bo841mJNj514"
      },
      "source": [
        "## 7. What are the shapes of PyTorch's 2D convolution's input and weight parameters?\n"
      ]
    },
    {
      "cell_type": "code",
      "metadata": {
        "id": "CJBcrUN9j7IP"
      },
      "source": [
        "'''\n",
        "Input parameter shape is defined by the user.\n",
        "'''"
      ],
      "execution_count": null,
      "outputs": []
    },
    {
      "cell_type": "markdown",
      "metadata": {
        "id": "gBV5tuC_kfhn"
      },
      "source": [
        "## 8. What exactly is a channel?\n"
      ]
    },
    {
      "cell_type": "code",
      "metadata": {
        "id": "E-35Lndakg8i"
      },
      "source": [
        "'''\n",
        "A certain component that defines pixel values in a digital image.\n",
        "Also matrix if data\n",
        "'''"
      ],
      "execution_count": null,
      "outputs": []
    },
    {
      "cell_type": "markdown",
      "metadata": {
        "id": "RIvqWwkjk9Oa"
      },
      "source": [
        "## 9.Explain relationship between matrix multiplication and a convolution?\n"
      ]
    },
    {
      "cell_type": "code",
      "metadata": {
        "id": "gSohGPiTk-aW"
      },
      "source": [
        "'''\n",
        "In convolution we perform matrix multiplication between image and kernel.\n",
        "\n",
        "'''"
      ],
      "execution_count": null,
      "outputs": []
    }
  ]
}