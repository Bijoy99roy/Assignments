{
  "nbformat": 4,
  "nbformat_minor": 0,
  "metadata": {
    "colab": {
      "name": "BPP_Assignemt 1.ipynb",
      "provenance": []
    },
    "kernelspec": {
      "name": "python3",
      "display_name": "Python 3"
    },
    "language_info": {
      "name": "python"
    }
  },
  "cells": [
    {
      "cell_type": "markdown",
      "metadata": {
        "id": "K0vom0N3LIM6"
      },
      "source": [
        "##1.Write a Python program to print \"Hello Python\"?\n"
      ]
    },
    {
      "cell_type": "code",
      "metadata": {
        "id": "NnDeOWHWi67T",
        "colab": {
          "base_uri": "https://localhost:8080/"
        },
        "outputId": "2be56fc0-2b1a-489a-a4cd-7c4fe7bab739"
      },
      "source": [
        "print(\"Hello Python\")"
      ],
      "execution_count": null,
      "outputs": [
        {
          "output_type": "stream",
          "text": [
            "Hello Python\n"
          ],
          "name": "stdout"
        }
      ]
    },
    {
      "cell_type": "markdown",
      "metadata": {
        "id": "OnnZKX0DLPKv"
      },
      "source": [
        "##2.Write a Python program to do arithmetical operations addition and division.?\n"
      ]
    },
    {
      "cell_type": "code",
      "metadata": {
        "colab": {
          "base_uri": "https://localhost:8080/"
        },
        "id": "8uPrqRl1LQeu",
        "outputId": "368646d2-9aea-4b91-8b06-7b2607e367ee"
      },
      "source": [
        "a=4\n",
        "b=2\n",
        "c = a + b\n",
        "d = a / b\n",
        "print(c)\n",
        "print(d)"
      ],
      "execution_count": null,
      "outputs": [
        {
          "output_type": "stream",
          "text": [
            "6\n",
            "2.0\n"
          ],
          "name": "stdout"
        }
      ]
    },
    {
      "cell_type": "markdown",
      "metadata": {
        "id": "-huMAoz1LhTS"
      },
      "source": [
        "##3.Write a Python program to find the area of a triangle?\n"
      ]
    },
    {
      "cell_type": "code",
      "metadata": {
        "colab": {
          "base_uri": "https://localhost:8080/"
        },
        "id": "DJiYHgJnLiwz",
        "outputId": "8ad3ecc1-9a37-47ca-dd32-92737337486d"
      },
      "source": [
        "height = 5\n",
        "base = 3\n",
        "area = (height * base)/2\n",
        "print(area)"
      ],
      "execution_count": null,
      "outputs": [
        {
          "output_type": "stream",
          "text": [
            "7.5\n"
          ],
          "name": "stdout"
        }
      ]
    },
    {
      "cell_type": "markdown",
      "metadata": {
        "id": "dLntHNJ3L1xo"
      },
      "source": [
        "##4.Write a Python program to swap two variables?\n"
      ]
    },
    {
      "cell_type": "code",
      "metadata": {
        "colab": {
          "base_uri": "https://localhost:8080/"
        },
        "id": "lEzVRneJL3eZ",
        "outputId": "037f24f8-19a9-4e9a-e0de-87818f5e9b92"
      },
      "source": [
        "a = 2\n",
        "b = 3\n",
        "a, b = b, a\n",
        "print(a)\n",
        "print(b)"
      ],
      "execution_count": null,
      "outputs": [
        {
          "output_type": "stream",
          "text": [
            "3\n",
            "2\n"
          ],
          "name": "stdout"
        }
      ]
    },
    {
      "cell_type": "markdown",
      "metadata": {
        "id": "VaXjhlmAMFYN"
      },
      "source": [
        "##5.Write a Python program to generate a random number?\n"
      ]
    },
    {
      "cell_type": "code",
      "metadata": {
        "colab": {
          "base_uri": "https://localhost:8080/"
        },
        "id": "OCOS78iiMHQa",
        "outputId": "dd15eeae-a4fc-402e-aabd-6665a6902b10"
      },
      "source": [
        "import random\n",
        "print(random.randint(,9))"
      ],
      "execution_count": null,
      "outputs": [
        {
          "output_type": "stream",
          "text": [
            "7\n"
          ],
          "name": "stdout"
        }
      ]
    },
    {
      "cell_type": "code",
      "metadata": {
        "id": "TrFvb9GBM4KB"
      },
      "source": [
        ""
      ],
      "execution_count": null,
      "outputs": []
    }
  ]
}