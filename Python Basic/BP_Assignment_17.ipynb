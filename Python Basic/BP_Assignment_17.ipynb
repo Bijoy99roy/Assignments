{
  "nbformat": 4,
  "nbformat_minor": 0,
  "metadata": {
    "colab": {
      "name": "BP_Assignment 17.ipynb",
      "provenance": []
    },
    "kernelspec": {
      "name": "python3",
      "display_name": "Python 3"
    }
  },
  "cells": [
    {
      "cell_type": "markdown",
      "metadata": {
        "id": "N5f5gr3hiXHU"
      },
      "source": [
        "##1. Assign the value 7 to the variable guess_me. Then, write the conditional tests (if, else, and elif) to print the string 'too low' if guess_me is less than 7, 'too high' if greater than 7, and 'just right' if equal to 7."
      ]
    },
    {
      "cell_type": "code",
      "metadata": {
        "colab": {
          "base_uri": "https://localhost:8080/"
        },
        "id": "Cpmxuo6TiTlY",
        "outputId": "6496c9df-78c8-4160-a475-c847b2707aea"
      },
      "source": [
        "guess_me = 7\n",
        "guess = int(input(\"Enetr your guess: \"))\n",
        "if guess < guess_me:\n",
        "  print('too low')\n",
        "elif guess > guess_me:\n",
        "  print('too high')\n",
        "else:\n",
        "  print('equal')"
      ],
      "execution_count": null,
      "outputs": [
        {
          "output_type": "stream",
          "text": [
            "Enetr your guess: 7\n",
            "equal\n"
          ],
          "name": "stdout"
        }
      ]
    },
    {
      "cell_type": "markdown",
      "metadata": {
        "id": "pHV5noroixG0"
      },
      "source": [
        "##2. Assign the value 7 to the variable guess_me and the value 1 to the variable start. Write a while loop that compares start with guess_me. Print too low if start is less than guess me. If start equals guess_me, print 'found it!' and exit the loop. If start is greater than guess_me, print 'oops' and exit the loop. Increment start at the end of the loop."
      ]
    },
    {
      "cell_type": "code",
      "metadata": {
        "colab": {
          "base_uri": "https://localhost:8080/"
        },
        "id": "1Uo3Ia1giyd8",
        "outputId": "a8fb71be-ca8b-4756-9e72-5a59283395ff"
      },
      "source": [
        "guess_me = 7\n",
        "start = 1\n",
        "while True:\n",
        "  if start > guess_me:\n",
        "    print('oops')\n",
        "  elif start < guess_me:\n",
        "    print('too low')\n",
        "  else:\n",
        "    print('found it!')\n",
        "    break\n",
        "  start = start + 1"
      ],
      "execution_count": null,
      "outputs": [
        {
          "output_type": "stream",
          "text": [
            "too low\n",
            "too low\n",
            "too low\n",
            "too low\n",
            "too low\n",
            "too low\n",
            "found it!\n"
          ],
          "name": "stdout"
        }
      ]
    },
    {
      "cell_type": "markdown",
      "metadata": {
        "id": "RhZVHl4bjoyF"
      },
      "source": [
        "##3. Print the following values of the list [3, 2, 1, 0] using a for loop.\n"
      ]
    },
    {
      "cell_type": "code",
      "metadata": {
        "colab": {
          "base_uri": "https://localhost:8080/"
        },
        "id": "MNmKw7RwjppS",
        "outputId": "737ad592-e5da-44f8-a61d-7d3c39006c48"
      },
      "source": [
        "l = [3, 2, 1, 0]\n",
        "for i in l:\n",
        "  print(i)"
      ],
      "execution_count": null,
      "outputs": [
        {
          "output_type": "stream",
          "text": [
            "3\n",
            "2\n",
            "1\n",
            "0\n"
          ],
          "name": "stdout"
        }
      ]
    },
    {
      "cell_type": "markdown",
      "metadata": {
        "id": "jmkZK0QLj1W4"
      },
      "source": [
        "##4. Use a list comprehension to make a list of the even numbers in range(10)\n"
      ]
    },
    {
      "cell_type": "code",
      "metadata": {
        "colab": {
          "base_uri": "https://localhost:8080/"
        },
        "id": "-2yY8qQtj2UW",
        "outputId": "eb747c21-75be-4874-e28e-48b8d1d3db66"
      },
      "source": [
        "a = [i for i in range(10) if i % 2 == 0]\n",
        "print(a)"
      ],
      "execution_count": null,
      "outputs": [
        {
          "output_type": "stream",
          "text": [
            "[0, 2, 4, 6, 8]\n"
          ],
          "name": "stdout"
        }
      ]
    },
    {
      "cell_type": "markdown",
      "metadata": {
        "id": "n-cKFJe-mP9W"
      },
      "source": [
        "##5. Use a dictionary comprehension to create the dictionary squares. Use range(10) to return the keys, and use the square of each key as its value.\n"
      ]
    },
    {
      "cell_type": "code",
      "metadata": {
        "colab": {
          "base_uri": "https://localhost:8080/"
        },
        "id": "BLSd3dbLmQx0",
        "outputId": "757aa9cc-53ae-4222-f39e-9529ff49913f"
      },
      "source": [
        "b = {i:i**2 for i in range(10)}\n",
        "print(b)"
      ],
      "execution_count": null,
      "outputs": [
        {
          "output_type": "stream",
          "text": [
            "{0: 0, 1: 1, 2: 4, 3: 9, 4: 16, 5: 25, 6: 36, 7: 49, 8: 64, 9: 81}\n"
          ],
          "name": "stdout"
        }
      ]
    },
    {
      "cell_type": "markdown",
      "metadata": {
        "id": "XKKjUwpBmXiT"
      },
      "source": [
        "##6. Construct the set odd from the odd numbers in the range using a set comprehension (10).\n"
      ]
    },
    {
      "cell_type": "code",
      "metadata": {
        "colab": {
          "base_uri": "https://localhost:8080/"
        },
        "id": "rnlf7shwmYea",
        "outputId": "1f312d40-4ad9-4d7a-a12a-c35b3e688d89"
      },
      "source": [
        "c = {i for i in range(10) if i%2 != 0}\n",
        "print(c)"
      ],
      "execution_count": null,
      "outputs": [
        {
          "output_type": "stream",
          "text": [
            "{1, 3, 5, 7, 9}\n"
          ],
          "name": "stdout"
        }
      ]
    },
    {
      "cell_type": "markdown",
      "metadata": {
        "id": "04Iui3qBm6gm"
      },
      "source": [
        "##7. Use a generator comprehension to return the string 'Got ' and a number for the numbers in range(10). Iterate through this by using a for loop.\n"
      ]
    },
    {
      "cell_type": "code",
      "metadata": {
        "id": "2cxqNRPAm82z",
        "colab": {
          "base_uri": "https://localhost:8080/"
        },
        "outputId": "31434049-f302-4421-a891-073dffe0df4a"
      },
      "source": [
        "n = 10\n",
        "generator = ('Got ' + str(i) for i in range(n))\n",
        "for item in generator:\n",
        "    print(item)"
      ],
      "execution_count": 4,
      "outputs": [
        {
          "output_type": "stream",
          "text": [
            "Got 0\n",
            "Got 1\n",
            "Got 2\n",
            "Got 3\n",
            "Got 4\n",
            "Got 5\n",
            "Got 6\n",
            "Got 7\n",
            "Got 8\n",
            "Got 9\n"
          ],
          "name": "stdout"
        }
      ]
    },
    {
      "cell_type": "markdown",
      "metadata": {
        "id": "Y8ptaylVm_SB"
      },
      "source": [
        "##8. Define a function called good that returns the list ['Harry', 'Ron', 'Hermione'].\n"
      ]
    },
    {
      "cell_type": "code",
      "metadata": {
        "colab": {
          "base_uri": "https://localhost:8080/"
        },
        "id": "i7PnxU2nnBRp",
        "outputId": "8cb0685b-2be9-4386-f712-8a76c186b413"
      },
      "source": [
        "def good():\n",
        "  return ['Harry', 'Ron', 'Hermione']\n",
        "good()"
      ],
      "execution_count": null,
      "outputs": [
        {
          "output_type": "execute_result",
          "data": {
            "text/plain": [
              "['Harry', 'Ron', 'Hermione']"
            ]
          },
          "metadata": {
            "tags": []
          },
          "execution_count": 9
        }
      ]
    },
    {
      "cell_type": "markdown",
      "metadata": {
        "id": "qMSX-Cl-nMDX"
      },
      "source": [
        "##9. Define a generator function called get_odds that returns the odd numbers from range(10). Use a for loop to find and print the third value returned"
      ]
    },
    {
      "cell_type": "code",
      "metadata": {
        "id": "M6fZMLp7nOiD",
        "colab": {
          "base_uri": "https://localhost:8080/"
        },
        "outputId": "0b04db76-c212-4b4b-c55d-61268fcce532"
      },
      "source": [
        "def get_odds():\n",
        "  for i in range(10):\n",
        "    if i % 2 != 0:\n",
        "      yield i\n",
        "count = 0\n",
        "for i in get_odds():\n",
        "  if count == 2:\n",
        "    print(i)\n",
        "    break\n",
        "  count += 1"
      ],
      "execution_count": 10,
      "outputs": [
        {
          "output_type": "stream",
          "text": [
            "5\n"
          ],
          "name": "stdout"
        }
      ]
    },
    {
      "cell_type": "markdown",
      "metadata": {
        "id": "Bq6NX4hKnTQV"
      },
      "source": [
        "##10. Define an exception called OopsException. Raise this exception to see what happens. Then write the code to catch this exception and print 'Caught an oops'.\n"
      ]
    },
    {
      "cell_type": "code",
      "metadata": {
        "id": "Y0GhRSUInUT-",
        "colab": {
          "base_uri": "https://localhost:8080/"
        },
        "outputId": "9a1a6b7a-73d3-499f-afa5-06f3edf2116f"
      },
      "source": [
        "class OopsException(Exception):\n",
        "  pass\n",
        "\n",
        "def demo_exception(a):\n",
        "  if a % 2 == 0:\n",
        "    raise OopsException(a)\n",
        "\n",
        "try:\n",
        "  demo_exception(2)\n",
        "except OopsException as e:\n",
        "  print('Caught an oops')"
      ],
      "execution_count": 2,
      "outputs": [
        {
          "output_type": "stream",
          "text": [
            "Caught an oops\n"
          ],
          "name": "stdout"
        }
      ]
    },
    {
      "cell_type": "markdown",
      "metadata": {
        "id": "oD4hw-HxnfR9"
      },
      "source": [
        "##11. Use zip() to make a dictionary called movies that pairs these lists: titles = ['Creature of Habit', 'Crewel Fate'] and plots = ['A nun turns into a monster', 'A haunted yarn shop'].\n"
      ]
    },
    {
      "cell_type": "code",
      "metadata": {
        "colab": {
          "base_uri": "https://localhost:8080/"
        },
        "id": "uOgRBxn9ngMj",
        "outputId": "71700aa3-6de1-4bde-bfbd-e88485df6b08"
      },
      "source": [
        "titles = ['Creature of Habit', 'Crewel Fate']\n",
        "plots = ['A nun turns into a monster', 'A haunted yarn shop']\n",
        "movies ={v:k for v,k in zip(titles,plots)}\n",
        "print(movies)"
      ],
      "execution_count": null,
      "outputs": [
        {
          "output_type": "stream",
          "text": [
            "{'Creature of Habit': 'A nun turns into a monster', 'Crewel Fate': 'A haunted yarn shop'}\n"
          ],
          "name": "stdout"
        }
      ]
    }
  ]
}