{
  "nbformat": 4,
  "nbformat_minor": 0,
  "metadata": {
    "colab": {
      "name": "BP_Assignment 11.ipynb",
      "provenance": []
    },
    "kernelspec": {
      "name": "python3",
      "display_name": "Python 3"
    },
    "language_info": {
      "name": "python"
    }
  },
  "cells": [
    {
      "cell_type": "markdown",
      "metadata": {
        "id": "aIlcLQ7qO9sz"
      },
      "source": [
        "##1. Create an assert statement that throws an AssertionError if the variable spam is a negative integer.\n"
      ]
    },
    {
      "cell_type": "code",
      "metadata": {
        "colab": {
          "base_uri": "https://localhost:8080/",
          "height": 316
        },
        "id": "xWYYcrj0Ov9t",
        "outputId": "438b42f0-b443-4c38-b0af-f7831623fc2f"
      },
      "source": [
        "def CreateAssertionError(spam):\n",
        "  assert spam >= 0,\"Number is negative\"\n",
        "\n",
        "CreateAssertionError(-2)\n"
      ],
      "execution_count": 13,
      "outputs": [
        {
          "output_type": "error",
          "ename": "AssertionError",
          "evalue": "ignored",
          "traceback": [
            "\u001b[0;31m---------------------------------------------------------------------------\u001b[0m",
            "\u001b[0;31mAssertionError\u001b[0m                            Traceback (most recent call last)",
            "\u001b[0;32m<ipython-input-13-52613a7d9340>\u001b[0m in \u001b[0;36m<module>\u001b[0;34m()\u001b[0m\n\u001b[1;32m      2\u001b[0m   \u001b[0;32massert\u001b[0m \u001b[0mspam\u001b[0m \u001b[0;34m>=\u001b[0m \u001b[0;36m0\u001b[0m\u001b[0;34m,\u001b[0m\u001b[0;34m\"Number is negative\"\u001b[0m\u001b[0;34m\u001b[0m\u001b[0;34m\u001b[0m\u001b[0m\n\u001b[1;32m      3\u001b[0m \u001b[0;34m\u001b[0m\u001b[0m\n\u001b[0;32m----> 4\u001b[0;31m \u001b[0mCreateAssertionError\u001b[0m\u001b[0;34m(\u001b[0m\u001b[0;34m-\u001b[0m\u001b[0;36m2\u001b[0m\u001b[0;34m)\u001b[0m\u001b[0;34m\u001b[0m\u001b[0;34m\u001b[0m\u001b[0m\n\u001b[0m",
            "\u001b[0;32m<ipython-input-13-52613a7d9340>\u001b[0m in \u001b[0;36mCreateAssertionError\u001b[0;34m(spam)\u001b[0m\n\u001b[1;32m      1\u001b[0m \u001b[0;32mdef\u001b[0m \u001b[0mCreateAssertionError\u001b[0m\u001b[0;34m(\u001b[0m\u001b[0mspam\u001b[0m\u001b[0;34m)\u001b[0m\u001b[0;34m:\u001b[0m\u001b[0;34m\u001b[0m\u001b[0;34m\u001b[0m\u001b[0m\n\u001b[0;32m----> 2\u001b[0;31m   \u001b[0;32massert\u001b[0m \u001b[0mspam\u001b[0m \u001b[0;34m>=\u001b[0m \u001b[0;36m0\u001b[0m\u001b[0;34m,\u001b[0m\u001b[0;34m\"Number is negative\"\u001b[0m\u001b[0;34m\u001b[0m\u001b[0;34m\u001b[0m\u001b[0m\n\u001b[0m\u001b[1;32m      3\u001b[0m \u001b[0;34m\u001b[0m\u001b[0m\n\u001b[1;32m      4\u001b[0m \u001b[0mCreateAssertionError\u001b[0m\u001b[0;34m(\u001b[0m\u001b[0;34m-\u001b[0m\u001b[0;36m2\u001b[0m\u001b[0;34m)\u001b[0m\u001b[0;34m\u001b[0m\u001b[0;34m\u001b[0m\u001b[0m\n",
            "\u001b[0;31mAssertionError\u001b[0m: Number is negative"
          ]
        }
      ]
    },
    {
      "cell_type": "markdown",
      "metadata": {
        "id": "JG9lLppyRWKU"
      },
      "source": [
        "##2. Write an assert statement that triggers an AssertionError if the variables eggs and bacon contain strings that are the same as each other, even if their cases are different (that is, 'hello' and 'hello' are considered the same, and 'goodbye' and 'GOODbye' are also considered the same).\n"
      ]
    },
    {
      "cell_type": "code",
      "metadata": {
        "colab": {
          "base_uri": "https://localhost:8080/",
          "height": 316
        },
        "id": "r4BvoLnGPHzR",
        "outputId": "98f564a8-c219-4913-8981-08323b0efca9"
      },
      "source": [
        "def CreateAssertionError(egg, bacon):\n",
        "  assert egg.lower() != bacon.lower(), \"Strings are same\"\n",
        "\n",
        "CreateAssertionError('GOODbye', 'goodbye')"
      ],
      "execution_count": 15,
      "outputs": [
        {
          "output_type": "error",
          "ename": "AssertionError",
          "evalue": "ignored",
          "traceback": [
            "\u001b[0;31m---------------------------------------------------------------------------\u001b[0m",
            "\u001b[0;31mAssertionError\u001b[0m                            Traceback (most recent call last)",
            "\u001b[0;32m<ipython-input-15-15f475125c43>\u001b[0m in \u001b[0;36m<module>\u001b[0;34m()\u001b[0m\n\u001b[1;32m      2\u001b[0m   \u001b[0;32massert\u001b[0m \u001b[0megg\u001b[0m\u001b[0;34m.\u001b[0m\u001b[0mlower\u001b[0m\u001b[0;34m(\u001b[0m\u001b[0;34m)\u001b[0m \u001b[0;34m!=\u001b[0m \u001b[0mbacon\u001b[0m\u001b[0;34m.\u001b[0m\u001b[0mlower\u001b[0m\u001b[0;34m(\u001b[0m\u001b[0;34m)\u001b[0m\u001b[0;34m,\u001b[0m \u001b[0;34m\"Strings are same\"\u001b[0m\u001b[0;34m\u001b[0m\u001b[0;34m\u001b[0m\u001b[0m\n\u001b[1;32m      3\u001b[0m \u001b[0;34m\u001b[0m\u001b[0m\n\u001b[0;32m----> 4\u001b[0;31m \u001b[0mCreateAssertionError\u001b[0m\u001b[0;34m(\u001b[0m\u001b[0;34m'GOODbye'\u001b[0m\u001b[0;34m,\u001b[0m \u001b[0;34m'goodbye'\u001b[0m\u001b[0;34m)\u001b[0m\u001b[0;34m\u001b[0m\u001b[0;34m\u001b[0m\u001b[0m\n\u001b[0m",
            "\u001b[0;32m<ipython-input-15-15f475125c43>\u001b[0m in \u001b[0;36mCreateAssertionError\u001b[0;34m(egg, bacon)\u001b[0m\n\u001b[1;32m      1\u001b[0m \u001b[0;32mdef\u001b[0m \u001b[0mCreateAssertionError\u001b[0m\u001b[0;34m(\u001b[0m\u001b[0megg\u001b[0m\u001b[0;34m,\u001b[0m \u001b[0mbacon\u001b[0m\u001b[0;34m)\u001b[0m\u001b[0;34m:\u001b[0m\u001b[0;34m\u001b[0m\u001b[0;34m\u001b[0m\u001b[0m\n\u001b[0;32m----> 2\u001b[0;31m   \u001b[0;32massert\u001b[0m \u001b[0megg\u001b[0m\u001b[0;34m.\u001b[0m\u001b[0mlower\u001b[0m\u001b[0;34m(\u001b[0m\u001b[0;34m)\u001b[0m \u001b[0;34m!=\u001b[0m \u001b[0mbacon\u001b[0m\u001b[0;34m.\u001b[0m\u001b[0mlower\u001b[0m\u001b[0;34m(\u001b[0m\u001b[0;34m)\u001b[0m\u001b[0;34m,\u001b[0m \u001b[0;34m\"Strings are same\"\u001b[0m\u001b[0;34m\u001b[0m\u001b[0;34m\u001b[0m\u001b[0m\n\u001b[0m\u001b[1;32m      3\u001b[0m \u001b[0;34m\u001b[0m\u001b[0m\n\u001b[1;32m      4\u001b[0m \u001b[0mCreateAssertionError\u001b[0m\u001b[0;34m(\u001b[0m\u001b[0;34m'GOODbye'\u001b[0m\u001b[0;34m,\u001b[0m \u001b[0;34m'goodbye'\u001b[0m\u001b[0;34m)\u001b[0m\u001b[0;34m\u001b[0m\u001b[0;34m\u001b[0m\u001b[0m\n",
            "\u001b[0;31mAssertionError\u001b[0m: Strings are same"
          ]
        }
      ]
    },
    {
      "cell_type": "markdown",
      "metadata": {
        "id": "RE4RTmibSTdR"
      },
      "source": [
        "##3. Create an assert statement that throws an AssertionError every time.\n"
      ]
    },
    {
      "cell_type": "code",
      "metadata": {
        "colab": {
          "base_uri": "https://localhost:8080/",
          "height": 316
        },
        "id": "3n-dUmNERodd",
        "outputId": "f5a27b99-e5f8-4800-8f18-9f5ee6d10928"
      },
      "source": [
        "def CreateAssertionError():\n",
        "  assert False\n",
        "\n",
        "CreateAssertionError()"
      ],
      "execution_count": 18,
      "outputs": [
        {
          "output_type": "error",
          "ename": "AssertionError",
          "evalue": "ignored",
          "traceback": [
            "\u001b[0;31m---------------------------------------------------------------------------\u001b[0m",
            "\u001b[0;31mAssertionError\u001b[0m                            Traceback (most recent call last)",
            "\u001b[0;32m<ipython-input-18-b6893f4686ce>\u001b[0m in \u001b[0;36m<module>\u001b[0;34m()\u001b[0m\n\u001b[1;32m      2\u001b[0m   \u001b[0;32massert\u001b[0m \u001b[0;32mFalse\u001b[0m\u001b[0;34m\u001b[0m\u001b[0;34m\u001b[0m\u001b[0m\n\u001b[1;32m      3\u001b[0m \u001b[0;34m\u001b[0m\u001b[0m\n\u001b[0;32m----> 4\u001b[0;31m \u001b[0mCreateAssertionError\u001b[0m\u001b[0;34m(\u001b[0m\u001b[0;34m)\u001b[0m\u001b[0;34m\u001b[0m\u001b[0;34m\u001b[0m\u001b[0m\n\u001b[0m",
            "\u001b[0;32m<ipython-input-18-b6893f4686ce>\u001b[0m in \u001b[0;36mCreateAssertionError\u001b[0;34m()\u001b[0m\n\u001b[1;32m      1\u001b[0m \u001b[0;32mdef\u001b[0m \u001b[0mCreateAssertionError\u001b[0m\u001b[0;34m(\u001b[0m\u001b[0;34m)\u001b[0m\u001b[0;34m:\u001b[0m\u001b[0;34m\u001b[0m\u001b[0;34m\u001b[0m\u001b[0m\n\u001b[0;32m----> 2\u001b[0;31m   \u001b[0;32massert\u001b[0m \u001b[0;32mFalse\u001b[0m\u001b[0;34m\u001b[0m\u001b[0;34m\u001b[0m\u001b[0m\n\u001b[0m\u001b[1;32m      3\u001b[0m \u001b[0;34m\u001b[0m\u001b[0m\n\u001b[1;32m      4\u001b[0m \u001b[0mCreateAssertionError\u001b[0m\u001b[0;34m(\u001b[0m\u001b[0;34m)\u001b[0m\u001b[0;34m\u001b[0m\u001b[0;34m\u001b[0m\u001b[0m\n",
            "\u001b[0;31mAssertionError\u001b[0m: "
          ]
        }
      ]
    },
    {
      "cell_type": "markdown",
      "metadata": {
        "id": "mULFrCxiVtdl"
      },
      "source": [
        "##4. What are the two lines that must be present in your software in order to call logging.debug()?"
      ]
    },
    {
      "cell_type": "code",
      "metadata": {
        "id": "OW4oX5-JRq46"
      },
      "source": [
        "import logging\n",
        "logging.basicConfig(level=logging.DEBUG, format =  '%(levelname)s - %(message)s')"
      ],
      "execution_count": 17,
      "outputs": []
    },
    {
      "cell_type": "markdown",
      "metadata": {
        "id": "lrZuf7uSWwAB"
      },
      "source": [
        "##5. What are the two lines that your program must have in order to have logging.debug() send a logging message to a file named programLog.txt?\n"
      ]
    },
    {
      "cell_type": "code",
      "metadata": {
        "id": "OJGmqmoNWxcK"
      },
      "source": [
        "import logging\n",
        "logging.basicConfig(filaname = 'programLog.txt',level = logging.DEBUG, format =  '%(levelname)s - %(message)s')"
      ],
      "execution_count": 19,
      "outputs": []
    },
    {
      "cell_type": "markdown",
      "metadata": {
        "id": "FHI3ik2cW_iL"
      },
      "source": [
        "##6. What are the five levels of logging?"
      ]
    },
    {
      "cell_type": "code",
      "metadata": {
        "id": "8VR4VPoXXAtS"
      },
      "source": [
        "DEBUG, INFO, WARNING, ERROR, and CRITICAL"
      ],
      "execution_count": null,
      "outputs": []
    },
    {
      "cell_type": "markdown",
      "metadata": {
        "id": "AXg4_O3DXF2g"
      },
      "source": [
        "##7. What line of code would you add to your software to disable all logging messages?\n"
      ]
    },
    {
      "cell_type": "code",
      "metadata": {
        "id": "ordzNKZnXKdQ"
      },
      "source": [
        "logging.disable(logging.DEBUG)"
      ],
      "execution_count": null,
      "outputs": []
    },
    {
      "cell_type": "markdown",
      "metadata": {
        "id": "t5VWxztzYIfL"
      },
      "source": [
        "##8.Why is using logging messages better than using print() to display the same message?\n"
      ]
    },
    {
      "cell_type": "code",
      "metadata": {
        "id": "Z9VU-K7bYLe7"
      },
      "source": [
        "'''\n",
        " we can disable logging messages without removing the logging function calls.\n",
        " we can selectively disable lower-level logging messages. \n",
        " Logging messages can be saved in a seperate file for future reference.\n",
        "'''"
      ],
      "execution_count": null,
      "outputs": []
    },
    {
      "cell_type": "markdown",
      "metadata": {
        "id": "PSoQTL-wYrXo"
      },
      "source": [
        "##9. What are the differences between the Step Over, Step In, and Step Out buttons in the debugger?\n"
      ]
    },
    {
      "cell_type": "code",
      "metadata": {
        "id": "EefLTcAUYsmg"
      },
      "source": [
        "'''\n",
        "Step In: Gets inside a function\n",
        "Step Over: Executes the function without stepping into it\n",
        "Step Out: Executes the rest of the code until it steps out of it\n",
        "'''"
      ],
      "execution_count": null,
      "outputs": []
    },
    {
      "cell_type": "markdown",
      "metadata": {
        "id": "vv7ILqXBZQzq"
      },
      "source": [
        "##10.After you click Continue, when will the debugger stop ?\n"
      ]
    },
    {
      "cell_type": "code",
      "metadata": {
        "id": "_CbliWawZSEZ"
      },
      "source": [
        "'''\n",
        "The debugger will after the code gets completely executed or if encounters another breakpoint\n",
        "'''"
      ],
      "execution_count": null,
      "outputs": []
    },
    {
      "cell_type": "markdown",
      "metadata": {
        "id": "9A0n7L47ZoS0"
      },
      "source": [
        "##11. What is the concept of a breakpoint?\n"
      ]
    },
    {
      "cell_type": "code",
      "metadata": {
        "id": "oPVYoLr-Zpf7"
      },
      "source": [
        "'''\n",
        "breakpoint is a feature in a line of code that makes the debugger stop when it reaches the breakpoint line\n",
        "'''"
      ],
      "execution_count": null,
      "outputs": []
    }
  ]
}