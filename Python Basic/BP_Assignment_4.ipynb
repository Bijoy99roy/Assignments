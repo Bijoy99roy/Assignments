{
  "nbformat": 4,
  "nbformat_minor": 0,
  "metadata": {
    "colab": {
      "name": "BP_Assignment 4.ipynb",
      "provenance": [],
      "collapsed_sections": []
    },
    "kernelspec": {
      "name": "python3",
      "display_name": "Python 3"
    }
  },
  "cells": [
    {
      "cell_type": "markdown",
      "metadata": {
        "id": "U7_vUccZm0--"
      },
      "source": [
        "##1. What exactly is []?"
      ]
    },
    {
      "cell_type": "markdown",
      "metadata": {
        "id": "cBcAMMIkvX0z"
      },
      "source": [
        "empty list or square brackets used to initialize an empty list"
      ]
    },
    {
      "cell_type": "markdown",
      "metadata": {
        "id": "1KwkA88Fm7Nt"
      },
      "source": [
        "##2. In a list of values stored in a variable called spam, how would you assign the value 'hello' as the third value? (Assume [2, 4, 6, 8, 10] are in spam.)\n"
      ]
    },
    {
      "cell_type": "code",
      "metadata": {
        "id": "hANnIgpphkvi"
      },
      "source": [
        "spam = [2, 4, 6, 8, 10]\n",
        "spam.insert(2,'hello')\n"
      ],
      "execution_count": null,
      "outputs": []
    },
    {
      "cell_type": "markdown",
      "metadata": {
        "id": "8HZk0VTOnV2m"
      },
      "source": [
        "##Let's pretend the spam includes the list ['a', 'b', 'c', 'd'] for the next three queries.\n"
      ]
    },
    {
      "cell_type": "markdown",
      "metadata": {
        "id": "SshgaXAQnadM"
      },
      "source": [
        "##3. What is the value of spam[int(int('3' * 2) / 11)]?"
      ]
    },
    {
      "cell_type": "markdown",
      "metadata": {
        "id": "gAJCsvLqndqL"
      },
      "source": [
        "We would get 'd' as the expression evaluates to 3"
      ]
    },
    {
      "cell_type": "markdown",
      "metadata": {
        "id": "QeALjFNwnr1U"
      },
      "source": [
        "##4. What is the value of spam[-1]?"
      ]
    },
    {
      "cell_type": "markdown",
      "metadata": {
        "id": "P2nhydWMnvJ0"
      },
      "source": [
        "We are trying to access the last element in the list that is 'd'"
      ]
    },
    {
      "cell_type": "markdown",
      "metadata": {
        "id": "lTeKLzuEn2Qc"
      },
      "source": [
        "##5. What is the value of spam[:2]?"
      ]
    },
    {
      "cell_type": "markdown",
      "metadata": {
        "id": "Sy8qjiD0n47f"
      },
      "source": [
        "We would get ['a','b']"
      ]
    },
    {
      "cell_type": "markdown",
      "metadata": {
        "id": "Yv4KL3-ooJ3_"
      },
      "source": [
        "##Let's pretend bacon has the list [3.14, 'cat,' 11, 'cat,' True] for the next three questions.\n"
      ]
    },
    {
      "cell_type": "markdown",
      "metadata": {
        "id": "7xRBDaKToM5D"
      },
      "source": [
        "##6. What is the value of bacon.index('cat')?"
      ]
    },
    {
      "cell_type": "markdown",
      "metadata": {
        "id": "zvGMWFqEoz9g"
      },
      "source": [
        "It would return 1 "
      ]
    },
    {
      "cell_type": "markdown",
      "metadata": {
        "id": "FBFwosmzo9xe"
      },
      "source": [
        "##7. How does bacon.append(99) change the look of the list value in bacon?"
      ]
    },
    {
      "cell_type": "markdown",
      "metadata": {
        "id": "z7zYUPLuoRoW"
      },
      "source": [
        "The list will look like this [3.14, 'cat', 11, 'cat', True, 99] after the append"
      ]
    },
    {
      "cell_type": "markdown",
      "metadata": {
        "id": "fZLwF8tzpWjM"
      },
      "source": [
        "##8. How does bacon.remove('cat') change the look of the list meaning in bacon?"
      ]
    },
    {
      "cell_type": "markdown",
      "metadata": {
        "id": "mPiFnJp_pd6e"
      },
      "source": [
        "It removes the 1st encountered value of 'cat' and the list becomes like this [3.14, 11, 'cat', True]"
      ]
    },
    {
      "cell_type": "markdown",
      "metadata": {
        "id": "qz1LrvOCpzL2"
      },
      "source": [
        "##9. What are the list concatenation and list replication operators?"
      ]
    },
    {
      "cell_type": "markdown",
      "metadata": {
        "id": "XliRtT6FqMHf"
      },
      "source": [
        "concatenation operator is +\n",
        "\n",
        "replication operator is *"
      ]
    },
    {
      "cell_type": "markdown",
      "metadata": {
        "id": "7oZxAMYcqU7c"
      },
      "source": [
        "##10. What is difference between the list methods append() and insert()?"
      ]
    },
    {
      "cell_type": "markdown",
      "metadata": {
        "id": "sVyQXlgqqWBb"
      },
      "source": [
        "Append allows us to insert data at the end of the list.\n",
        "\n",
        "Insert allows us to insert data at any index of the list."
      ]
    },
    {
      "cell_type": "markdown",
      "metadata": {
        "id": "1opjLV8hs_V1"
      },
      "source": [
        "##11. What are the two methods for removing items from a list?"
      ]
    },
    {
      "cell_type": "markdown",
      "metadata": {
        "id": "VnFthPNYtAXu"
      },
      "source": [
        "Remove and Pop are the two methods"
      ]
    },
    {
      "cell_type": "markdown",
      "metadata": {
        "id": "2zf1bFLbtFuV"
      },
      "source": [
        "##12. Describe how list values and string values are identical."
      ]
    },
    {
      "cell_type": "markdown",
      "metadata": {
        "id": "N-g11Jp4v8NY"
      },
      "source": [
        "Both of them can be iterated, sliced, can apply len(). So, we can see these two have lots of similarity"
      ]
    },
    {
      "cell_type": "markdown",
      "metadata": {
        "id": "N93sMeGBtJQq"
      },
      "source": [
        "##13.What's the difference between tuples and lists?"
      ]
    },
    {
      "cell_type": "markdown",
      "metadata": {
        "id": "r_XdMq7qtSZl"
      },
      "source": [
        "tuples are immutable but lists are mutable"
      ]
    },
    {
      "cell_type": "markdown",
      "metadata": {
        "id": "BhOzkk12tWas"
      },
      "source": [
        "##14. How do you type a tuple value that only contains the integer 42?"
      ]
    },
    {
      "cell_type": "code",
      "metadata": {
        "colab": {
          "base_uri": "https://localhost:8080/"
        },
        "id": "FivypGNbZLnp",
        "outputId": "31bf71a5-76fa-4f07-e4e0-27c26c2aee70"
      },
      "source": [
        "a = (42,)\n",
        "a"
      ],
      "execution_count": null,
      "outputs": [
        {
          "output_type": "execute_result",
          "data": {
            "text/plain": [
              "(42,)"
            ]
          },
          "metadata": {
            "tags": []
          },
          "execution_count": 5
        }
      ]
    },
    {
      "cell_type": "markdown",
      "metadata": {
        "id": "Ddek31fCtYxd"
      },
      "source": [
        "##15. How do you get a list value's tuple form? How do you get a tuple value's list form?\n"
      ]
    },
    {
      "cell_type": "markdown",
      "metadata": {
        "id": "jBt6M1Ofuen4"
      },
      "source": [
        "We can just use list() function to get list from tuple and tuple() function to get tuple from list "
      ]
    },
    {
      "cell_type": "markdown",
      "metadata": {
        "id": "H4uDZ2omteoY"
      },
      "source": [
        "##16. Variables that \"contain\" list values are not necessarily lists themselves. Instead, what do they contain?"
      ]
    },
    {
      "cell_type": "markdown",
      "metadata": {
        "id": "HHmMgwq_u1y3"
      },
      "source": [
        "Reference to the list"
      ]
    },
    {
      "cell_type": "markdown",
      "metadata": {
        "id": "6rNKZdGPti9r"
      },
      "source": [
        "##17. How do you distinguish between copy.copy() and copy.deepcopy()?"
      ]
    },
    {
      "cell_type": "markdown",
      "metadata": {
        "id": "e41HK9Vbu3_w"
      },
      "source": [
        "copy.copy() does shallow copy that mean it creates and referenced copy of the original data.\n",
        "\n",
        "copy.deepcopy() does deep copy that means it creates seperate object of the original data"
      ]
    },
    {
      "cell_type": "code",
      "metadata": {
        "id": "ARkpf_oRwUxi"
      },
      "source": [
        ""
      ],
      "execution_count": null,
      "outputs": []
    }
  ]
}