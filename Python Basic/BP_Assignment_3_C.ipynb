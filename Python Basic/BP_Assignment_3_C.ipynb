{
  "nbformat": 4,
  "nbformat_minor": 0,
  "metadata": {
    "colab": {
      "name": "BP_Assignment 3 C.ipynb",
      "provenance": [],
      "collapsed_sections": []
    },
    "kernelspec": {
      "name": "python3",
      "display_name": "Python 3"
    }
  },
  "cells": [
    {
      "cell_type": "markdown",
      "metadata": {
        "id": "ssrI050-vyZj"
      },
      "source": [
        "##1. What are the benefits of including roles in the programmes?\n"
      ]
    },
    {
      "cell_type": "markdown",
      "metadata": {
        "id": "rRxYwZ-9drpm"
      },
      "source": [
        "That way different programmers can do different parts of the project"
      ]
    },
    {
      "cell_type": "markdown",
      "metadata": {
        "id": "1zr81s4vxai_"
      },
      "source": [
        "##2. When does the code in a function run: when it's specified or when it's called?\n"
      ]
    },
    {
      "cell_type": "markdown",
      "metadata": {
        "id": "ScBUg06_xhCi"
      },
      "source": [
        "It runs when it is called"
      ]
    },
    {
      "cell_type": "markdown",
      "metadata": {
        "id": "bo-PEfkzyOM1"
      },
      "source": [
        "##3. What statement causes a feature to be created?\n"
      ]
    },
    {
      "cell_type": "markdown",
      "metadata": {
        "id": "3jJ_SQEE3gNf"
      },
      "source": [
        "the keyword \"def\" can be used to create a feature/function"
      ]
    },
    {
      "cell_type": "markdown",
      "metadata": {
        "id": "V6upMOvtyPYW"
      },
      "source": [
        "##4. What is the distinction between a function and a call to a function?\n"
      ]
    },
    {
      "cell_type": "markdown",
      "metadata": {
        "id": "j9skoRXWyYLx"
      },
      "source": [
        "A function is a block of code that can be executed from anywhere of the code.\n",
        "\n",
        "Call to function means executing the function"
      ]
    },
    {
      "cell_type": "markdown",
      "metadata": {
        "id": "W-xxycUcy3IA"
      },
      "source": [
        "##5. In a Python application, how many global scopes are there? How many local scopes are there?"
      ]
    },
    {
      "cell_type": "markdown",
      "metadata": {
        "id": "GmXv3h5ly4rm"
      },
      "source": [
        "There is only one global scope.\n",
        "\n",
        "There are as many local scope as the number of function"
      ]
    },
    {
      "cell_type": "markdown",
      "metadata": {
        "id": "5Is0ABoVzYw6"
      },
      "source": [
        "##6. When a function call returns, what happens to variables in the local scope?"
      ]
    },
    {
      "cell_type": "markdown",
      "metadata": {
        "id": "M9RAOQQfzaCo"
      },
      "source": [
        "The variable retains it's value until we execute the function again or terminate the program"
      ]
    },
    {
      "cell_type": "markdown",
      "metadata": {
        "id": "RX0OdU590YjF"
      },
      "source": [
        "##7. What is the concept of a return value? Is it possible to have a return value in an expression?\n"
      ]
    },
    {
      "cell_type": "markdown",
      "metadata": {
        "id": "YHBKwVXS3utB"
      },
      "source": [
        "A return is a value that a function returns after it completes it's task"
      ]
    },
    {
      "cell_type": "markdown",
      "metadata": {
        "id": "dyd5eoQ60Zsk"
      },
      "source": [
        "##8. What is the return value of a call to a function that does not have a return statement?\n"
      ]
    },
    {
      "cell_type": "markdown",
      "metadata": {
        "id": "V-60h6Ka1dKA"
      },
      "source": [
        "None"
      ]
    },
    {
      "cell_type": "markdown",
      "metadata": {
        "id": "JPE8bbBY0b4g"
      },
      "source": [
        "##9. How do you make a function variable refer to the global variable?\n"
      ]
    },
    {
      "cell_type": "markdown",
      "metadata": {
        "id": "HeJ0mABW3Nef"
      },
      "source": [
        "Add \"global\" keyword before the variable to make it global"
      ]
    },
    {
      "cell_type": "markdown",
      "metadata": {
        "id": "vtJwu-qv0ec_"
      },
      "source": [
        "##10. What data form does None belong to?"
      ]
    },
    {
      "cell_type": "markdown",
      "metadata": {
        "id": "wQHxLOMv1s6w"
      },
      "source": [
        "It belongs to NoneType"
      ]
    },
    {
      "cell_type": "markdown",
      "metadata": {
        "id": "P5bmgctK0hSw"
      },
      "source": [
        "##11. What does the sentence import areallyourpetsnamederic do?\n"
      ]
    },
    {
      "cell_type": "markdown",
      "metadata": {
        "id": "POW2CIdO3BYj"
      },
      "source": [
        "Throws an error. As it's not a real python library"
      ]
    },
    {
      "cell_type": "markdown",
      "metadata": {
        "id": "AgZUFopn0jW3"
      },
      "source": [
        "##12. If you had a bacon() feature in a spam module, what would you call it after importing spam?"
      ]
    },
    {
      "cell_type": "markdown",
      "metadata": {
        "id": "7iEdI8t31L35"
      },
      "source": [
        "spam.bacon()"
      ]
    },
    {
      "cell_type": "markdown",
      "metadata": {
        "id": "IDJeEcVO0mRs"
      },
      "source": [
        "##13. What can you do to save a programme from crashing if it encounters an error?\n"
      ]
    },
    {
      "cell_type": "markdown",
      "metadata": {
        "id": "je8D_qUH2zmK"
      },
      "source": [
        "wrape the code in try block and add except block to catch the error"
      ]
    },
    {
      "cell_type": "markdown",
      "metadata": {
        "id": "OKl5zw-90oie"
      },
      "source": [
        "##14. What is the purpose of the try clause? What is the purpose of the except clause?\n"
      ]
    },
    {
      "cell_type": "markdown",
      "metadata": {
        "id": "D_detIUw2dwo"
      },
      "source": [
        "in try clause we put the code that can potentially cause any error or exception.\n",
        "\n",
        "in except clause we put the code that will be executed once any exception/error ocurs"
      ]
    },
    {
      "cell_type": "code",
      "metadata": {
        "id": "HUl8N5ka3m-e"
      },
      "source": [
        ""
      ],
      "execution_count": null,
      "outputs": []
    }
  ]
}