{
  "nbformat": 4,
  "nbformat_minor": 0,
  "metadata": {
    "colab": {
      "name": "BP_Assignment_6.ipynb",
      "provenance": [],
      "collapsed_sections": []
    },
    "kernelspec": {
      "name": "python3",
      "display_name": "Python 3"
    }
  },
  "cells": [
    {
      "cell_type": "markdown",
      "metadata": {
        "id": "GEhO6zcnJHLp"
      },
      "source": [
        "##1. What are escape characters, and how do you use them?\n"
      ]
    },
    {
      "cell_type": "markdown",
      "metadata": {
        "id": "oZJhfovJM91K"
      },
      "source": [
        "Escape chracters are special characters that let you insert certain characters in a string that are otherwise not possible to insert.\n",
        "\n",
        "We put a backslash(\\) followed by the charcter \n",
        "ex:'Bijoy\\\\'s'"
      ]
    },
    {
      "cell_type": "markdown",
      "metadata": {
        "id": "36FBPGyfJJFn"
      },
      "source": [
        "##2. What do the escape characters n and t stand for?"
      ]
    },
    {
      "cell_type": "markdown",
      "metadata": {
        "id": "qzcNu7bgJhOR"
      },
      "source": [
        "n stands for new line\n",
        "\n",
        "t stands for tab"
      ]
    },
    {
      "cell_type": "markdown",
      "metadata": {
        "id": "GhwD1LfhKbjm"
      },
      "source": [
        "##3. What is the way to include backslash characters in a string?\n"
      ]
    },
    {
      "cell_type": "markdown",
      "metadata": {
        "id": "yJ1vaKH3K4cP"
      },
      "source": [
        "just add two consecutive backslash this way one will work as a escape character and the other one will show.  Eg:'\\\\'"
      ]
    },
    {
      "cell_type": "markdown",
      "metadata": {
        "id": "xddBu1m2LRpF"
      },
      "source": [
        "##4. The string \"Howl's Moving Castle\" is a correct value. Why isn't the single quote character in the word Howl's not escaped a problem?\n"
      ]
    },
    {
      "cell_type": "markdown",
      "metadata": {
        "id": "INU_nkJ_LVeU"
      },
      "source": [
        "The single quote is inside double quote that is why it is not escaping a problem"
      ]
    },
    {
      "cell_type": "markdown",
      "metadata": {
        "id": "1kccfSFzLj-b"
      },
      "source": [
        "##5. How do you write a string of newlines if you don't want to use the n character?"
      ]
    },
    {
      "cell_type": "code",
      "metadata": {
        "id": "Xx84DfgYYe0u",
        "colab": {
          "base_uri": "https://localhost:8080/"
        },
        "outputId": "be8387bd-87e4-42ab-a1fd-fbbd91b3ecff"
      },
      "source": [
        "print('hello world')"
      ],
      "execution_count": null,
      "outputs": [
        {
          "output_type": "stream",
          "text": [
            "hello\tworld\n"
          ],
          "name": "stdout"
        }
      ]
    },
    {
      "cell_type": "markdown",
      "metadata": {
        "id": "6u5N2mL4Nm8W"
      },
      "source": [
        "##6. What are the values of the given expressions?\n",
        "\n",
        "###'Hello, world!'[1]\n",
        "###'Hello, world!'[0:5]\n",
        "###'Hello, world!'[:5]\n",
        "###'Hello, world!'[3:]\n"
      ]
    },
    {
      "cell_type": "code",
      "metadata": {
        "id": "Ak398J2iJAkk"
      },
      "source": [
        "'Hello, world!'[1]  =>H\n",
        "\n",
        "'Hello, world!'[0:5]=>Hello\n",
        "\n",
        "'Hello, world!'[:5] =>Hello\n",
        "\n",
        "'Hello, world!'[3:] =>lo, world!"
      ],
      "execution_count": null,
      "outputs": []
    },
    {
      "cell_type": "markdown",
      "metadata": {
        "id": "TiwfMaQCOjk3"
      },
      "source": [
        "##7. What are the values of the following expressions?\n",
        "\n",
        "###'Hello'.upper()\n",
        "###'Hello'.upper().isupper()\n",
        "###'Hello'.upper().lower()\n"
      ]
    },
    {
      "cell_type": "code",
      "metadata": {
        "id": "aR1lCEbyOndm"
      },
      "source": [
        "'Hello'.upper()           =>HELLO\n",
        "'Hello'.upper().isupper() =>True\n",
        "'Hello'.upper().lower()   =>hello"
      ],
      "execution_count": null,
      "outputs": []
    },
    {
      "cell_type": "markdown",
      "metadata": {
        "id": "XfwANCVtPOiC"
      },
      "source": [
        "##8. What are the values of the following expressions?\n",
        "\n",
        "###'Remember, remember, the fifth of July.'.split()\n",
        "###'-'.join('There can only one.'.split())\n"
      ]
    },
    {
      "cell_type": "code",
      "metadata": {
        "id": "9q9Ny1vsPTlp"
      },
      "source": [
        "'Remember, remember, the fifth of July.'.split()=>['Remember,', 'remember,', 'the', 'fifth', 'of', 'July.']\n",
        "'-'.join('There can only one.'.split())         => There-can-only-one."
      ],
      "execution_count": null,
      "outputs": []
    },
    {
      "cell_type": "markdown",
      "metadata": {
        "id": "YC5Tgv6PPvGX"
      },
      "source": [
        "##9. What are the methods for right-justifying, left-justifying, and centering a string?"
      ]
    },
    {
      "cell_type": "markdown",
      "metadata": {
        "id": "p50_aqTBRjMJ"
      },
      "source": [
        "left-justifying =>ljust()\n",
        "\n",
        "right-justifying =>rjust()\n",
        "\n",
        "centering => center()"
      ]
    },
    {
      "cell_type": "markdown",
      "metadata": {
        "id": "mWs6YXRFQp5g"
      },
      "source": [
        "##10. What is the best way to remove whitespace characters from the start or end?"
      ]
    },
    {
      "cell_type": "markdown",
      "metadata": {
        "id": "CM55_e1oQtXB"
      },
      "source": [
        "We can use trim() fucntion to remove whitespace form start or end"
      ]
    }
  ]
}