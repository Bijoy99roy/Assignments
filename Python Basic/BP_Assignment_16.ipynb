{
  "nbformat": 4,
  "nbformat_minor": 0,
  "metadata": {
    "colab": {
      "name": "BP_Assignment 16.ipynb",
      "provenance": []
    },
    "kernelspec": {
      "name": "python3",
      "display_name": "Python 3"
    }
  },
  "cells": [
    {
      "cell_type": "markdown",
      "metadata": {
        "id": "z5w56TcUa6zB"
      },
      "source": [
        "##1. Create a list called years_list, starting with the year of your birth, and each year thereafter until the year of your fifth birthday. For example, if you were born in 1980. the list would be years_list = [1980, 1981, 1982, 1983, 1984, 1985].\n"
      ]
    },
    {
      "cell_type": "code",
      "metadata": {
        "colab": {
          "base_uri": "https://localhost:8080/"
        },
        "id": "2Ox0pH8Ya4Bd",
        "outputId": "5dd77439-df7d-4cfb-9a36-c6a2869cfb37"
      },
      "source": [
        "years_list = []\n",
        "for i in range(1999, 2005):\n",
        "  years_list.append(i)\n",
        "print(years_list)"
      ],
      "execution_count": null,
      "outputs": [
        {
          "output_type": "stream",
          "text": [
            "[1999, 2000, 2001, 2002, 2003, 2004]\n"
          ],
          "name": "stdout"
        }
      ]
    },
    {
      "cell_type": "markdown",
      "metadata": {
        "id": "LeE_6fmIbpwP"
      },
      "source": [
        "##2. In which year in years_list was your third birthday? Remember, you were 0 years of age for your first year.\n"
      ]
    },
    {
      "cell_type": "code",
      "metadata": {
        "colab": {
          "base_uri": "https://localhost:8080/"
        },
        "id": "7ZKhSyXkbdvA",
        "outputId": "7dab696a-b406-4dbb-a621-7871d629ef17"
      },
      "source": [
        "years_list[3]"
      ],
      "execution_count": null,
      "outputs": [
        {
          "output_type": "execute_result",
          "data": {
            "text/plain": [
              "2002"
            ]
          },
          "metadata": {
            "tags": []
          },
          "execution_count": 5
        }
      ]
    },
    {
      "cell_type": "markdown",
      "metadata": {
        "id": "rMYkRhiEcFxw"
      },
      "source": [
        "##3.In the years list, which year were you the oldest?"
      ]
    },
    {
      "cell_type": "code",
      "metadata": {
        "colab": {
          "base_uri": "https://localhost:8080/"
        },
        "id": "JfpLhUsUcHH2",
        "outputId": "be57c486-dceb-4194-d7fe-c0024cc5f57d"
      },
      "source": [
        "years_list[-1]"
      ],
      "execution_count": null,
      "outputs": [
        {
          "output_type": "execute_result",
          "data": {
            "text/plain": [
              "2004"
            ]
          },
          "metadata": {
            "tags": []
          },
          "execution_count": 6
        }
      ]
    },
    {
      "cell_type": "markdown",
      "metadata": {
        "id": "1GpUcbv6cNoj"
      },
      "source": [
        "##4. Make a list called things with these three strings as elements: \"mozzarella\", \"cinderella\", \"salmonella\"."
      ]
    },
    {
      "cell_type": "code",
      "metadata": {
        "id": "FMrRU6DWcO3p"
      },
      "source": [
        "things = ['mozzarella','cinderella', 'salmonella']"
      ],
      "execution_count": null,
      "outputs": []
    },
    {
      "cell_type": "markdown",
      "metadata": {
        "id": "Yx6g75H4caZD"
      },
      "source": [
        "##5. Capitalize the element in things that refers to a person and then print the list. Did it change the element in the list?\n"
      ]
    },
    {
      "cell_type": "code",
      "metadata": {
        "colab": {
          "base_uri": "https://localhost:8080/",
          "height": 72
        },
        "id": "anJTytGCcbjR",
        "outputId": "6a821b1d-58e3-471e-c473-ceadf545aead"
      },
      "source": [
        "print(things[1].capitalize())\n",
        "print(things)\n",
        "'''\n",
        "No it didn't change as i didn't reasigned \n",
        "'''"
      ],
      "execution_count": null,
      "outputs": [
        {
          "output_type": "stream",
          "text": [
            "Cinderella\n",
            "['mozzarella', 'cinderella', 'salmonella']\n"
          ],
          "name": "stdout"
        },
        {
          "output_type": "execute_result",
          "data": {
            "application/vnd.google.colaboratory.intrinsic+json": {
              "type": "string"
            },
            "text/plain": [
              "\"\\nNo it didn't change as i didn't reasigned \\n\""
            ]
          },
          "metadata": {
            "tags": []
          },
          "execution_count": 11
        }
      ]
    },
    {
      "cell_type": "markdown",
      "metadata": {
        "id": "MVrJE_jIc7mB"
      },
      "source": [
        "##6. Make a surprise list with the elements \"Groucho,\" \"Chico,\" and \"Harpo.\"\n"
      ]
    },
    {
      "cell_type": "code",
      "metadata": {
        "id": "rEWmOxv9c8wD"
      },
      "source": [
        "surprize = ['Groucho', 'Chico', 'Harpo']"
      ],
      "execution_count": null,
      "outputs": []
    },
    {
      "cell_type": "markdown",
      "metadata": {
        "id": "1OItKsX9eThG"
      },
      "source": [
        "##7. Lowercase the last element of the surprise list, reverse it, and then capitalize it.\n"
      ]
    },
    {
      "cell_type": "code",
      "metadata": {
        "colab": {
          "base_uri": "https://localhost:8080/"
        },
        "id": "x34_PbYfeUq_",
        "outputId": "bbaf374a-03ac-4903-c8c6-a1e81ff94faa"
      },
      "source": [
        "surprize[-1] = surprize[-1].lower()\n",
        "surprize[-1] = surprize[-1][::-1]\n",
        "\n",
        "surprize[-1] = surprize[-1].capitalize()\n",
        "print(surprize)"
      ],
      "execution_count": null,
      "outputs": [
        {
          "output_type": "stream",
          "text": [
            "['Groucho', 'Chico', 'Oprah']\n"
          ],
          "name": "stdout"
        }
      ]
    },
    {
      "cell_type": "markdown",
      "metadata": {
        "id": "2iZwKkF6fHjO"
      },
      "source": [
        "##8. Make an English-to-French dictionary called e2f and print it. Here are your starter words: dog is chien, cat is chat, and walrus is morse.\n"
      ]
    },
    {
      "cell_type": "code",
      "metadata": {
        "id": "JrXSBG67fIk5"
      },
      "source": [
        "e2f = {'dog':'chien', 'cat':'chat', 'walrus':'morse'}"
      ],
      "execution_count": null,
      "outputs": []
    },
    {
      "cell_type": "markdown",
      "metadata": {
        "id": "QN5nJ0ppfRUH"
      },
      "source": [
        "##9. Write the French word for walrus in your three-word dictionary e2f.\n"
      ]
    },
    {
      "cell_type": "code",
      "metadata": {
        "colab": {
          "base_uri": "https://localhost:8080/",
          "height": 36
        },
        "id": "qmIxXroofSL0",
        "outputId": "d7447dd9-5155-411e-b890-0eb581372b24"
      },
      "source": [
        "e2f['walrus']"
      ],
      "execution_count": null,
      "outputs": [
        {
          "output_type": "execute_result",
          "data": {
            "application/vnd.google.colaboratory.intrinsic+json": {
              "type": "string"
            },
            "text/plain": [
              "'morse'"
            ]
          },
          "metadata": {
            "tags": []
          },
          "execution_count": 23
        }
      ]
    },
    {
      "cell_type": "markdown",
      "metadata": {
        "id": "PqTabksofd_G"
      },
      "source": [
        "##10. Make a French-to-English dictionary called f2e from e2f. Use the items method.\n"
      ]
    },
    {
      "cell_type": "code",
      "metadata": {
        "colab": {
          "base_uri": "https://localhost:8080/"
        },
        "id": "QS-wKLgnffDd",
        "outputId": "ffd8d963-423a-4093-8788-75a098a8511d"
      },
      "source": [
        "f2e=dict()\n",
        "for k,v in e2f.items():\n",
        "  f2e[v] = k\n",
        "f2e"
      ],
      "execution_count": null,
      "outputs": [
        {
          "output_type": "execute_result",
          "data": {
            "text/plain": [
              "{'chat': 'cat', 'chien': 'dog', 'morse': 'walrus'}"
            ]
          },
          "metadata": {
            "tags": []
          },
          "execution_count": 28
        }
      ]
    },
    {
      "cell_type": "markdown",
      "metadata": {
        "id": "JhOc0zzqgB2w"
      },
      "source": [
        "##11. Print the English version of the French word chien using f2e.\n"
      ]
    },
    {
      "cell_type": "code",
      "metadata": {
        "colab": {
          "base_uri": "https://localhost:8080/",
          "height": 36
        },
        "id": "Kl04txD1gCyW",
        "outputId": "5dd6763a-fbdc-41fa-da6c-19be6092c6ab"
      },
      "source": [
        "f2e['chien']"
      ],
      "execution_count": null,
      "outputs": [
        {
          "output_type": "execute_result",
          "data": {
            "application/vnd.google.colaboratory.intrinsic+json": {
              "type": "string"
            },
            "text/plain": [
              "'dog'"
            ]
          },
          "metadata": {
            "tags": []
          },
          "execution_count": 29
        }
      ]
    },
    {
      "cell_type": "markdown",
      "metadata": {
        "id": "Dx7aOmXugHfv"
      },
      "source": [
        "##12. Make and print a set of English words from the keys in e2f.\n"
      ]
    },
    {
      "cell_type": "code",
      "metadata": {
        "colab": {
          "base_uri": "https://localhost:8080/"
        },
        "id": "25UZ_gkVgJhx",
        "outputId": "d7f8cf4e-33cd-4191-d056-2dced150a5a6"
      },
      "source": [
        "e2f.keys()"
      ],
      "execution_count": null,
      "outputs": [
        {
          "output_type": "execute_result",
          "data": {
            "text/plain": [
              "dict_keys(['dog', 'cat', 'walrus'])"
            ]
          },
          "metadata": {
            "tags": []
          },
          "execution_count": 30
        }
      ]
    },
    {
      "cell_type": "markdown",
      "metadata": {
        "id": "0_n1Aa8ugVO-"
      },
      "source": [
        "##13. Make a multilevel dictionary called life. Use these strings for the topmost keys: 'animals', 'plants', and 'other'. Make the 'animals' key refer to another dictionary with the keys 'cats', 'octopi', and 'emus'. Make the 'cats' key refer to a list of strings with the values 'Henri', 'Grumpy', and 'Lucy'. Make all the other keys refer to empty dictionaries.\n"
      ]
    },
    {
      "cell_type": "code",
      "metadata": {
        "id": "CwPVmGyKgW6k"
      },
      "source": [
        "life = {'animals':{'cats':['Henri', 'Grumpu', 'Lucy'], 'octopi':'', 'emus':''},'plants':'','other':''}"
      ],
      "execution_count": null,
      "outputs": []
    },
    {
      "cell_type": "markdown",
      "metadata": {
        "id": "9hCUZWkEheY8"
      },
      "source": [
        "##14. Print the top-level keys of life"
      ]
    },
    {
      "cell_type": "code",
      "metadata": {
        "colab": {
          "base_uri": "https://localhost:8080/"
        },
        "id": "U_ehu8tThfRL",
        "outputId": "da79d6e0-70f0-4e50-8c1d-a7cd4353db9c"
      },
      "source": [
        "life.keys()"
      ],
      "execution_count": null,
      "outputs": [
        {
          "output_type": "execute_result",
          "data": {
            "text/plain": [
              "dict_keys(['animals', 'plants', 'other'])"
            ]
          },
          "metadata": {
            "tags": []
          },
          "execution_count": 32
        }
      ]
    },
    {
      "cell_type": "markdown",
      "metadata": {
        "id": "piNB4I5qhhXG"
      },
      "source": [
        "##15. Print the keys for life['animals'].\n"
      ]
    },
    {
      "cell_type": "code",
      "metadata": {
        "colab": {
          "base_uri": "https://localhost:8080/"
        },
        "id": "KxNYCT0Uhjoq",
        "outputId": "7918a04c-7449-491c-e895-a4bd85310010"
      },
      "source": [
        "life['animals'].keys()"
      ],
      "execution_count": null,
      "outputs": [
        {
          "output_type": "execute_result",
          "data": {
            "text/plain": [
              "dict_keys(['cats', 'octopi', 'emus'])"
            ]
          },
          "metadata": {
            "tags": []
          },
          "execution_count": 33
        }
      ]
    },
    {
      "cell_type": "markdown",
      "metadata": {
        "id": "0ZUMb0BCho2r"
      },
      "source": [
        "##16. Print the values for life['animals']['cats']\n"
      ]
    },
    {
      "cell_type": "code",
      "metadata": {
        "id": "MbyaxSePhrAZ",
        "colab": {
          "base_uri": "https://localhost:8080/"
        },
        "outputId": "a39d8f2f-11b2-4036-ee80-399af7bd5d6c"
      },
      "source": [
        "life['animals']['cats']"
      ],
      "execution_count": null,
      "outputs": [
        {
          "output_type": "execute_result",
          "data": {
            "text/plain": [
              "['Henri', 'Grumpu', 'Lucy']"
            ]
          },
          "metadata": {
            "tags": []
          },
          "execution_count": 34
        }
      ]
    }
  ]
}