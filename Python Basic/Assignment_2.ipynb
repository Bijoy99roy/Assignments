{
  "nbformat": 4,
  "nbformat_minor": 0,
  "metadata": {
    "colab": {
      "name": "Assignment 2.ipynb",
      "provenance": [],
      "collapsed_sections": []
    },
    "kernelspec": {
      "name": "python3",
      "display_name": "Python 3"
    }
  },
  "cells": [
    {
      "cell_type": "markdown",
      "metadata": {
        "id": "tGQPjf7rqcJn"
      },
      "source": [
        "##1. What are the Boolean data type's two values? How do you go about writing them?"
      ]
    },
    {
      "cell_type": "markdown",
      "metadata": {
        "id": "1p4cvGz5rUR7"
      },
      "source": [
        "The two Value are True and False"
      ]
    },
    {
      "cell_type": "code",
      "metadata": {
        "id": "dtsFcKQJqJ2I"
      },
      "source": [
        "\r\n",
        "a = True\r\n",
        "b = False\r\n"
      ],
      "execution_count": 4,
      "outputs": []
    },
    {
      "cell_type": "markdown",
      "metadata": {
        "id": "r9uldj8dqbjm"
      },
      "source": [
        ""
      ]
    },
    {
      "cell_type": "markdown",
      "metadata": {
        "id": "jaJhuMzJrBAa"
      },
      "source": [
        "##2. What are the three different types of Boolean operators?\r\n"
      ]
    },
    {
      "cell_type": "markdown",
      "metadata": {
        "id": "N3ew2-oWrI27"
      },
      "source": [
        "\"and\", \"or\" and \"not\" are the boolean operators"
      ]
    },
    {
      "cell_type": "markdown",
      "metadata": {
        "id": "O4OZLjRerZxO"
      },
      "source": [
        "##3. Make a list of each Boolean operator's truth tables (i.e. every possible combination of Boolean values for the operator and what it evaluate ).\r\n"
      ]
    },
    {
      "cell_type": "code",
      "metadata": {
        "id": "mWP5q2xLrAfO"
      },
      "source": [
        "0 => False\r\n",
        "1 => True\r\n",
        "#AND\r\n",
        "a b\r\n",
        "0 0 => 0\r\n",
        "0 1 => 0\r\n",
        "1 0 => 0\r\n",
        "1 1 => 1\r\n",
        "\r\n",
        "#OR\r\n",
        "a b\r\n",
        "0 0 => 0\r\n",
        "0 1 => 1\r\n",
        "1 0 => 1\r\n",
        "1 1 => 1\r\n",
        "\r\n",
        "#NOT\r\n",
        "a\r\n",
        "0 => 1\r\n",
        "1 => 0"
      ],
      "execution_count": null,
      "outputs": []
    },
    {
      "cell_type": "markdown",
      "metadata": {
        "id": "_gCDUMDmr-x0"
      },
      "source": [
        "##4. What are the values of the following expressions?\r\n"
      ]
    },
    {
      "cell_type": "code",
      "metadata": {
        "id": "XvETT7m-sEEV"
      },
      "source": [
        "(5 > 4) and (3 == 5)                => False\r\n",
        "not (5 > 4)                         => False \r\n",
        "(5 > 4) or (3 == 5)                 => True\r\n",
        "not ((5 > 4) or (3 == 5))           => False\r\n",
        "(True and True) and (True == False) => False\r\n",
        "(not False) or (not True)           => True\r\n"
      ],
      "execution_count": null,
      "outputs": []
    },
    {
      "cell_type": "markdown",
      "metadata": {
        "id": "GBhNlNQg_TYZ"
      },
      "source": [
        "##5. What are the six different types of reference operators?\r\n"
      ]
    },
    {
      "cell_type": "markdown",
      "metadata": {
        "id": "BqUT_se__X_j"
      },
      "source": [
        "The reference operators are ==,<,>,<=,>=,!="
      ]
    },
    {
      "cell_type": "markdown",
      "metadata": {
        "id": "TNxTijyPsuYz"
      },
      "source": [
        "##6. How do you tell the difference between the equal to and assignment operators?\r\n"
      ]
    },
    {
      "cell_type": "markdown",
      "metadata": {
        "id": "R0S4iVOgszwe"
      },
      "source": [
        "equal operator is double equal to(==)\r\n",
        "assignment operator is single equal to (=)"
      ]
    },
    {
      "cell_type": "markdown",
      "metadata": {
        "id": "i6UyDJHetKO7"
      },
      "source": [
        "##8. Recognize the following three blocks in this code:"
      ]
    },
    {
      "cell_type": "code",
      "metadata": {
        "id": "V7W5Rq70sNmw"
      },
      "source": [
        "spam = 0\r\n",
        "if spam == 10:\r\n",
        "    print('eggs')\r\n",
        "    if spam > 5:\r\n",
        "        print('bacon')\r\n",
        "    else:\r\n",
        "        print('ham')\r\n",
        "    print('spam')\r\n",
        "print('spam')\r\n"
      ],
      "execution_count": null,
      "outputs": []
    },
    {
      "cell_type": "markdown",
      "metadata": {
        "id": "b4LHhV_HtQh_"
      },
      "source": [
        "The three blocks are: First an if condition then we have an inner if else condition and in this case the output will be spam. As the outer if condition doesn't satisfy "
      ]
    },
    {
      "cell_type": "markdown",
      "metadata": {
        "id": "0kXF1YXuty1k"
      },
      "source": [
        "##9. Create a programme that prints. If 1 is stored in spam, prints Hello; if 2 is stored in spam, prints Howdy; and if 3 is stored in spam, prints Salutations! if there's something else in spam."
      ]
    },
    {
      "cell_type": "code",
      "metadata": {
        "id": "ssHnAbbiuF2H"
      },
      "source": [
        "spam = 4\r\n",
        "if spam == 1:\r\n",
        "  print(\"Hello\")\r\n",
        "elif spam == 2:\r\n",
        "  print(\"Howdy\")\r\n",
        "elif spam == 3:\r\n",
        "  print(\"Salutations!\")\r\n",
        "else:\r\n",
        "  print(\"something else is spam\")"
      ],
      "execution_count": null,
      "outputs": []
    },
    {
      "cell_type": "markdown",
      "metadata": {
        "id": "qWCI3gCxxR4N"
      },
      "source": [
        "##10.If your programme is stuck in an endless loop, what keys can you press?\r\n"
      ]
    },
    {
      "cell_type": "markdown",
      "metadata": {
        "id": "8VpyjNqFxVoi"
      },
      "source": [
        "CTRL + C"
      ]
    },
    {
      "cell_type": "markdown",
      "metadata": {
        "id": "yqrGiQmzxcrA"
      },
      "source": [
        "##11. How can you tell the difference between break and continue?\r\n"
      ]
    },
    {
      "cell_type": "markdown",
      "metadata": {
        "id": "OYhZKs8yxd_q"
      },
      "source": [
        "\"break\" breaks out of a loop but \"continue\" returns the command to the loop instead of executing the next line of code"
      ]
    },
    {
      "cell_type": "markdown",
      "metadata": {
        "id": "4v8koh5yx1OK"
      },
      "source": [
        "##12. In a for loop, what is the difference between range(10), range(0, 10), and range(0, 10, 1)?\r\n"
      ]
    },
    {
      "cell_type": "markdown",
      "metadata": {
        "id": "Y6HZjCY7yDqe"
      },
      "source": [
        "The won't be any difference all of then will provide a range starting with 0 ending with 9 with step size = 1 by default"
      ]
    },
    {
      "cell_type": "markdown",
      "metadata": {
        "id": "-Zv76JtFyVN7"
      },
      "source": [
        "##13. Using a for loop, write a short programme that prints the numbers 1 to 10 Then, using a while loop, create an identical programme that prints the numbers 1 to 10.\r\n"
      ]
    },
    {
      "cell_type": "code",
      "metadata": {
        "colab": {
          "base_uri": "https://localhost:8080/"
        },
        "id": "Ul6jUew3xT_K",
        "outputId": "10687148-849c-4ed8-ff94-437300324675"
      },
      "source": [
        "for i in range(1,11):\r\n",
        "  print(i)\r\n",
        "\r\n",
        "i=1\r\n",
        "while i < 11:\r\n",
        "  print(i)\r\n",
        "  i+=1"
      ],
      "execution_count": 20,
      "outputs": [
        {
          "output_type": "stream",
          "text": [
            "1\n",
            "2\n",
            "3\n",
            "4\n",
            "5\n",
            "6\n",
            "7\n",
            "8\n",
            "9\n",
            "10\n",
            "1\n",
            "2\n",
            "3\n",
            "4\n",
            "5\n",
            "6\n",
            "7\n",
            "8\n",
            "9\n",
            "10\n"
          ],
          "name": "stdout"
        }
      ]
    },
    {
      "cell_type": "markdown",
      "metadata": {
        "id": "Wve9AmW2yt1U"
      },
      "source": [
        "##14. If you had a bacon() function within a spam module, what would you call it after importing spam?\r\n"
      ]
    },
    {
      "cell_type": "code",
      "metadata": {
        "id": "6KhxtQTXzsm4"
      },
      "source": [
        "spam.bacon()"
      ],
      "execution_count": null,
      "outputs": []
    },
    {
      "cell_type": "code",
      "metadata": {
        "id": "cvwEVPBEyvJj"
      },
      "source": [
        ""
      ],
      "execution_count": null,
      "outputs": []
    }
  ]
}