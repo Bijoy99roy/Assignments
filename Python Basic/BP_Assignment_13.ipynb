{
  "nbformat": 4,
  "nbformat_minor": 0,
  "metadata": {
    "colab": {
      "name": "BP_Assignment 13.ipynb",
      "provenance": []
    },
    "kernelspec": {
      "name": "python3",
      "display_name": "Python 3"
    },
    "language_info": {
      "name": "python"
    }
  },
  "cells": [
    {
      "cell_type": "markdown",
      "metadata": {
        "id": "BKhw9V7DkZwn"
      },
      "source": [
        "##1. What advantages do Excel spreadsheets have over CSV spreadsheets?\n"
      ]
    },
    {
      "cell_type": "code",
      "metadata": {
        "id": "D0lQpiIPkWC4"
      },
      "source": [
        "'''\n",
        "CSV is only capable of storing a single sheet in a file, without any formatting and formulas\n",
        "but Excel can has multiple sheets in a file with formulas and formatting\n",
        "'''"
      ],
      "execution_count": null,
      "outputs": []
    },
    {
      "cell_type": "markdown",
      "metadata": {
        "id": "0m_Kj9h1oM5Z"
      },
      "source": [
        "##2.What do you pass to csv.reader() and csv.writer() to create reader and writer objects?"
      ]
    },
    {
      "cell_type": "code",
      "metadata": {
        "id": "PDE0Le69oObb"
      },
      "source": [
        "'''\n",
        "We pass an iterable File object\n",
        "'''"
      ],
      "execution_count": null,
      "outputs": []
    },
    {
      "cell_type": "markdown",
      "metadata": {
        "id": "eoD5FsJiodIE"
      },
      "source": [
        "##3. What modes do File objects for reader and writer objects need to be opened in?"
      ]
    },
    {
      "cell_type": "code",
      "metadata": {
        "id": "PSpaVn-ioeGK"
      },
      "source": [
        "'''\n",
        "For reading it need to be opened in 'r' mode\n",
        "FOr writing it need to be opened in 'w' mode\n",
        "'''"
      ],
      "execution_count": null,
      "outputs": []
    },
    {
      "cell_type": "markdown",
      "metadata": {
        "id": "9crh3V2yosgq"
      },
      "source": [
        "##4. What method takes a list argument and writes it to a CSV file?\n"
      ]
    },
    {
      "cell_type": "code",
      "metadata": {
        "id": "fOE_iBcAotzp"
      },
      "source": [
        "writerows()"
      ],
      "execution_count": null,
      "outputs": []
    },
    {
      "cell_type": "markdown",
      "metadata": {
        "id": "LciAG23KpMZy"
      },
      "source": [
        "##5. What do the keyword arguments delimiter and line terminator do?\n"
      ]
    },
    {
      "cell_type": "code",
      "metadata": {
        "id": "gB4_6WjqpNey"
      },
      "source": [
        "'''\n",
        "A delimiter is a string that is used to seperate the values in a row\n",
        "A line terminator is a string that is used to terminate lines produced by the writer object. However the reader object only recognizes '\\r' and '\\n' as line terminator\n",
        "'''"
      ],
      "execution_count": null,
      "outputs": []
    },
    {
      "cell_type": "markdown",
      "metadata": {
        "id": "QnNUGLBmq1Sz"
      },
      "source": [
        "##6. What function takes a string of JSON data and returns a Python data structure?\n"
      ]
    },
    {
      "cell_type": "code",
      "metadata": {
        "id": "o5_kxnJ4q2bL"
      },
      "source": [
        "import json\n",
        "json.loads()"
      ],
      "execution_count": null,
      "outputs": []
    },
    {
      "cell_type": "markdown",
      "metadata": {
        "id": "UeVq9dR6tSV2"
      },
      "source": [
        "##7. What function takes a Python data structure and returns a string of JSON data?"
      ]
    },
    {
      "cell_type": "code",
      "metadata": {
        "id": "gOdyz6nprh3J"
      },
      "source": [
        "import json\n",
        "json.dump()"
      ],
      "execution_count": null,
      "outputs": []
    }
  ]
}