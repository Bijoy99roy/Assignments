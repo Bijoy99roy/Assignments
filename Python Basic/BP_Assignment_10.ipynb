{
  "nbformat": 4,
  "nbformat_minor": 0,
  "metadata": {
    "colab": {
      "name": "BP_Assignment_10.ipynb",
      "provenance": [],
      "collapsed_sections": []
    },
    "kernelspec": {
      "name": "python3",
      "display_name": "Python 3"
    }
  },
  "cells": [
    {
      "cell_type": "markdown",
      "metadata": {
        "id": "DaMLP96BPesB"
      },
      "source": [
        "##1. How do you distinguish between shutil.copy() and shutil.copytree()?\n"
      ]
    },
    {
      "cell_type": "markdown",
      "metadata": {
        "id": "oTXjjikoPh2w"
      },
      "source": [
        "shutil.copy() wil copy only a single file but shutil.copytree() will copy an entire folder and every folder and file containing in it"
      ]
    },
    {
      "cell_type": "markdown",
      "metadata": {
        "id": "fNqwDVDCRxYi"
      },
      "source": [
        "##2. What is the name of the feature used to rename files?\n"
      ]
    },
    {
      "cell_type": "markdown",
      "metadata": {
        "id": "JVBVvHfVRzV_"
      },
      "source": [
        "os.rename()"
      ]
    },
    {
      "cell_type": "markdown",
      "metadata": {
        "id": "rUR04QwLR7cA"
      },
      "source": [
        "##3. How are the delete functions in the send2trash and shutil modules different?\n"
      ]
    },
    {
      "cell_type": "markdown",
      "metadata": {
        "id": "sHXHEK4BSMhQ"
      },
      "source": [
        "send2trash moves the file or folder to the recycle bin but shutil deletes the file completely"
      ]
    },
    {
      "cell_type": "markdown",
      "metadata": {
        "id": "WqC4eMNkSgMP"
      },
      "source": [
        "##4. ZipFile objects have a close() function that is similar to that of File objects. What ZipFile method is similar to the open() method of File objects?\n"
      ]
    },
    {
      "cell_type": "code",
      "metadata": {
        "id": "NTvJKMLJ4nYF"
      },
      "source": [
        "zipfile.ZipFile()"
      ],
      "execution_count": null,
      "outputs": []
    },
    {
      "cell_type": "markdown",
      "metadata": {
        "id": "syANJLIGUNHm"
      },
      "source": [
        "##5. Create a programme that searches a folder tree for files with a certain file extension (such as .pdf or .jpg). Copy these files to a new folder from wherever they are now.\n"
      ]
    },
    {
      "cell_type": "code",
      "metadata": {
        "id": "aoe4ns4kPaju"
      },
      "source": [
        "import shutil\n",
        "import os\n",
        "for root, _, files in os.walk(r'C:\\Users\\bijoy\\Desktop\\pixel art'):\n",
        "    print(root)\n",
        "    for file in files:\n",
        "        if file[-3:] == 'jpg' or file[-3:] == 'pdf':\n",
        "            print(file)\n",
        "            src = root+ '\\\\' + file\n",
        "            shutil.copy(src,r'C:\\Users\\bijoy\\Desktop\\pixel art new')"
      ],
      "execution_count": null,
      "outputs": []
    }
  ]
}