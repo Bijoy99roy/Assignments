{
  "nbformat": 4,
  "nbformat_minor": 0,
  "metadata": {
    "colab": {
      "name": "PA Assignment 7 .ipynb",
      "provenance": []
    },
    "kernelspec": {
      "name": "python3",
      "display_name": "Python 3"
    },
    "language_info": {
      "name": "python"
    }
  },
  "cells": [
    {
      "cell_type": "markdown",
      "metadata": {
        "id": "wDoDvc_m0O1V"
      },
      "source": [
        "##Q1. What is the purpose of the try statement?"
      ]
    },
    {
      "cell_type": "code",
      "metadata": {
        "id": "GMVciiGg0EwU"
      },
      "source": [
        "'''\n",
        "try statement is used for codes that may cause an error \n",
        "it is used so that the code doesn't break\n",
        "'''"
      ],
      "execution_count": null,
      "outputs": []
    },
    {
      "cell_type": "markdown",
      "metadata": {
        "id": "9WxuZon50rZy"
      },
      "source": [
        "##Q2. What are the two most popular try statement variations?"
      ]
    },
    {
      "cell_type": "code",
      "metadata": {
        "id": "VnNOysin0sqq"
      },
      "source": [
        "'''\n",
        "assert and if else\n",
        "'''"
      ],
      "execution_count": null,
      "outputs": []
    },
    {
      "cell_type": "markdown",
      "metadata": {
        "id": "Om5foesC1UXJ"
      },
      "source": [
        "##Q3. What is the purpose of the raise statement?"
      ]
    },
    {
      "cell_type": "code",
      "metadata": {
        "id": "mwFdKrit1VZo"
      },
      "source": [
        "'''\n",
        "raise statement is used to raise an error\n",
        "'''"
      ],
      "execution_count": null,
      "outputs": []
    },
    {
      "cell_type": "markdown",
      "metadata": {
        "id": "qmz1gHlv1bNp"
      },
      "source": [
        "##Q4. What does the assert statement do, and what other statement is it like?\n"
      ]
    },
    {
      "cell_type": "code",
      "metadata": {
        "id": "fiE8rhcq1cUN"
      },
      "source": [
        "'''\n",
        "assert takes an expression and returns true or false\n",
        "if it is true program keeps running\n",
        "else program throws an assertion error\n",
        "\n",
        "it's like try except\n",
        "'''"
      ],
      "execution_count": null,
      "outputs": []
    },
    {
      "cell_type": "markdown",
      "metadata": {
        "id": "7ZWC-zjJ18Lx"
      },
      "source": [
        "##Q5. What is the purpose of the with/as argument, and what other statement is it like?"
      ]
    },
    {
      "cell_type": "code",
      "metadata": {
        "id": "L4UBRJFz2fq4"
      },
      "source": [
        "'''\n",
        "with statement is an exception handling mechanism that helps with the handling of file, streams\n",
        "as is used to provide an alias\n",
        "'''"
      ],
      "execution_count": null,
      "outputs": []
    }
  ]
}