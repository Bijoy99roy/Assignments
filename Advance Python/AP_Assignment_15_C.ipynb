{
  "nbformat": 4,
  "nbformat_minor": 0,
  "metadata": {
    "colab": {
      "name": "AP Assignment 15 C.ipynb",
      "provenance": [],
      "collapsed_sections": []
    },
    "kernelspec": {
      "name": "python3",
      "display_name": "Python 3"
    },
    "language_info": {
      "name": "python"
    }
  },
  "cells": [
    {
      "cell_type": "markdown",
      "metadata": {
        "id": "FQ-91lmlu7L4"
      },
      "source": [
        "##1.What are the new features added in Python 3.8 version?"
      ]
    },
    {
      "cell_type": "code",
      "metadata": {
        "id": "opWX-V7Wuxqg"
      },
      "source": [
        "'''\n",
        "1.The walrus operator\n",
        "2.Positional-only arguments\n",
        "3.f-strings support “=”\n",
        "4.reversed() now works with dict\n",
        "5.Simplified iterable unpacking for return and yield\n",
        "6.New syntax warnings\n",
        "7.Performance improvements\n",
        "'''"
      ],
      "execution_count": null,
      "outputs": []
    },
    {
      "cell_type": "markdown",
      "metadata": {
        "id": "mUntl6V1vucM"
      },
      "source": [
        "##2.What is monkey patching in Python?"
      ]
    },
    {
      "cell_type": "code",
      "metadata": {
        "id": "vKiliOiHvzx-"
      },
      "source": [
        "'''\n",
        "The term monkey patch refers to dynamic (or run-time) modifications of a class or module.\n",
        "In Python, we can actually change the behavior of code at run-time.\n",
        "'''"
      ],
      "execution_count": null,
      "outputs": []
    },
    {
      "cell_type": "markdown",
      "metadata": {
        "id": "2XQL2r3FwZJL"
      },
      "source": [
        "##3.What is the difference between a shallow copy and deep copy?"
      ]
    },
    {
      "cell_type": "code",
      "metadata": {
        "id": "uuXS78xowbUL"
      },
      "source": [
        "'''\n",
        "Shallow Copy means copying the reference of an object to another.\n",
        "Deep Copy means copying the content of an object and constructing a seperate object.\n",
        "'''"
      ],
      "execution_count": null,
      "outputs": []
    },
    {
      "cell_type": "markdown",
      "metadata": {
        "id": "LIqT0cuaw2cL"
      },
      "source": [
        "##4.What is the maximum possible length of an identifier?"
      ]
    },
    {
      "cell_type": "code",
      "metadata": {
        "id": "eWi04ev7w2Au"
      },
      "source": [
        "'''\n",
        "79\n",
        "'''"
      ],
      "execution_count": null,
      "outputs": []
    },
    {
      "cell_type": "markdown",
      "metadata": {
        "id": "2BuOkGe3w6QZ"
      },
      "source": [
        "##5.What is generator comprehension?"
      ]
    },
    {
      "cell_type": "code",
      "metadata": {
        "id": "PDYYxmPHw8dg"
      },
      "source": [
        "'''\n",
        "A generator comprehension is a single-line code for defining a generator in Python.\n",
        "'''"
      ],
      "execution_count": null,
      "outputs": []
    }
  ]
}