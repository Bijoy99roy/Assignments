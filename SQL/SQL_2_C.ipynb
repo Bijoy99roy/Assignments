{
  "nbformat": 4,
  "nbformat_minor": 0,
  "metadata": {
    "colab": {
      "name": "SQL 2 C.ipynb",
      "provenance": []
    },
    "kernelspec": {
      "name": "python3",
      "display_name": "Python 3"
    },
    "language_info": {
      "name": "python"
    }
  },
  "cells": [
    {
      "cell_type": "markdown",
      "source": [
        "## 1.Write an SQL query to print the first three characters of  FIRST_NAME from Worker table.\n"
      ],
      "metadata": {
        "id": "7dBgt2xMTd5J"
      }
    },
    {
      "cell_type": "code",
      "execution_count": null,
      "metadata": {
        "id": "52GsPC5pQNx1"
      },
      "outputs": [],
      "source": [
        "select SUBSTR(FIRST_NAME,1, 3) from Worker"
      ]
    },
    {
      "cell_type": "markdown",
      "source": [
        "## 2.Write an SQL query to find the position of the alphabet (‘a’) in the first name column ‘Amitabh’ from Worker table."
      ],
      "metadata": {
        "id": "7OcgzC4MUe5B"
      }
    },
    {
      "cell_type": "code",
      "source": [
        "select POSITION(\"a\" IN first_name) from Worker where first_name = \"Amitabh\""
      ],
      "metadata": {
        "id": "sOs9oiGyUjHY"
      },
      "execution_count": null,
      "outputs": []
    },
    {
      "cell_type": "markdown",
      "source": [
        "## 3. Write an SQL query to print the name of employees having the highest salary in each department"
      ],
      "metadata": {
        "id": "jXd-OKAoU_HN"
      }
    },
    {
      "cell_type": "code",
      "source": [
        "# Assuming there is two different table for employee and department\n",
        "select Department.Name as Department, e1.Name as Employee, e1.Salary as Salary\n",
        "from Department join Employee e1 ON Department.Id = e1.DepartmentId\n",
        "where e1.Salary = (select Max(Salary) from Employee e2 where e2.DepartmentId = e1.DepartmentId)"
      ],
      "metadata": {
        "id": "pOH6p_YoVBvI"
      },
      "execution_count": null,
      "outputs": []
    }
  ]
}