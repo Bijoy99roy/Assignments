{
  "nbformat": 4,
  "nbformat_minor": 0,
  "metadata": {
    "colab": {
      "name": "SQL 8.ipynb",
      "provenance": []
    },
    "kernelspec": {
      "name": "python3",
      "display_name": "Python 3"
    },
    "language_info": {
      "name": "python"
    }
  },
  "cells": [
    {
      "cell_type": "markdown",
      "source": [
        "## 1.Write an SQL query to fetch intersecting records of two tables.\n"
      ],
      "metadata": {
        "id": "Ggnqbl7fi7Uh"
      }
    },
    {
      "cell_type": "code",
      "execution_count": null,
      "metadata": {
        "id": "aALTJV7Oiaq0"
      },
      "outputs": [],
      "source": [
        "select * from Tabel1\n",
        "INTERSECT\n",
        "select * from Table1;"
      ]
    },
    {
      "cell_type": "markdown",
      "source": [
        "## 2.Write an SQL query to show records from one table that another table does not have.\n"
      ],
      "metadata": {
        "id": "LYiADkmWjD8w"
      }
    },
    {
      "cell_type": "code",
      "source": [
        "select * from Table1 where Id NOT IN (select Id from Table2);"
      ],
      "metadata": {
        "id": "3eugHbg7jFzM"
      },
      "execution_count": null,
      "outputs": []
    }
  ]
}