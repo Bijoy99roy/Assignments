{
  "nbformat": 4,
  "nbformat_minor": 0,
  "metadata": {
    "colab": {
      "name": "SQL 6 C.ipynb",
      "provenance": []
    },
    "kernelspec": {
      "name": "python3",
      "display_name": "Python 3"
    },
    "language_info": {
      "name": "python"
    }
  },
  "cells": [
    {
      "cell_type": "markdown",
      "source": [
        "## 1.Write an SQL query to print details of the Workers who have joined in Feb’2014."
      ],
      "metadata": {
        "id": "bsxRYdMHecGD"
      }
    },
    {
      "cell_type": "code",
      "execution_count": null,
      "metadata": {
        "id": "EReCTFO_eATh"
      },
      "outputs": [],
      "source": [
        "select * from Workers where JOINING_YEAR = 2014 and JOINING_MONTH = 2;"
      ]
    },
    {
      "cell_type": "markdown",
      "source": [
        "## 2.Write an SQL query to fetch duplicate records having matching data in some fields of a table.\n"
      ],
      "metadata": {
        "id": "m9idV3eKex8M"
      }
    },
    {
      "cell_type": "code",
      "source": [
        "select * , COUNT(*) from Workers group by EMAIL having COUNT(*) > 1;"
      ],
      "metadata": {
        "id": "vTNOLC-GezHQ"
      },
      "execution_count": null,
      "outputs": []
    },
    {
      "cell_type": "markdown",
      "source": [
        "## 3.How to remove duplicate rows from Employees table.\n"
      ],
      "metadata": {
        "id": "xUzMTULrfbx3"
      }
    },
    {
      "cell_type": "code",
      "source": [
        "delete e from Employee e\n",
        "join Employee e2\n",
        "where e.Id > e2.Id\n",
        "and e.Email = e2.Email;"
      ],
      "metadata": {
        "id": "fCQAaSJJfc8U"
      },
      "execution_count": null,
      "outputs": []
    }
  ]
}