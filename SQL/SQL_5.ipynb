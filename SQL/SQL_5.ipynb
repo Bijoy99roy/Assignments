{
  "nbformat": 4,
  "nbformat_minor": 0,
  "metadata": {
    "colab": {
      "name": "SQL 5.ipynb",
      "provenance": []
    },
    "kernelspec": {
      "name": "python3",
      "display_name": "Python 3"
    },
    "language_info": {
      "name": "python"
    }
  },
  "cells": [
    {
      "cell_type": "markdown",
      "source": [
        "## 1.Write an SQL query to print details of workers excluding first names, “Vipul” and “Satish” from Worker table."
      ],
      "metadata": {
        "id": "omarC7xub43_"
      }
    },
    {
      "cell_type": "code",
      "execution_count": null,
      "metadata": {
        "id": "lMQXqRZAb1AT"
      },
      "outputs": [],
      "source": [
        "select * from Workers where FIRST_NAME NOT IN (\"Vipul\",\"Satish\");"
      ]
    },
    {
      "cell_type": "markdown",
      "source": [
        "## 2.Write an SQL query to print details of the Workers whose FIRST_NAME ends with ‘h’ and contains six alphabets."
      ],
      "metadata": {
        "id": "ZdlpJpD7ced0"
      }
    },
    {
      "cell_type": "code",
      "source": [
        "select * from Workers where FIRST_NAME like \"_____h\";"
      ],
      "metadata": {
        "id": "2HhP-DJ0cgBv"
      },
      "execution_count": null,
      "outputs": []
    },
    {
      "cell_type": "markdown",
      "source": [
        "## 3.Write a query to validate Email of Employee."
      ],
      "metadata": {
        "id": "Qyyjv2LkdI1x"
      }
    },
    {
      "cell_type": "code",
      "source": [
        "select * from Employee where Email like \"%_@_%._%\";"
      ],
      "metadata": {
        "id": "rWWPnJ57dNcB"
      },
      "execution_count": null,
      "outputs": []
    }
  ]
}