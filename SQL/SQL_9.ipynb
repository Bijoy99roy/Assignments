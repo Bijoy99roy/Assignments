{
  "nbformat": 4,
  "nbformat_minor": 0,
  "metadata": {
    "colab": {
      "name": "SQL 9.ipynb",
      "provenance": []
    },
    "kernelspec": {
      "name": "python3",
      "display_name": "Python 3"
    },
    "language_info": {
      "name": "python"
    }
  },
  "cells": [
    {
      "cell_type": "markdown",
      "source": [
        "## 1.Write an SQL query to show the top n (say 10) records of a table."
      ],
      "metadata": {
        "id": "Eh3nGxPUjyBG"
      }
    },
    {
      "cell_type": "code",
      "execution_count": null,
      "metadata": {
        "id": "ZxcIaNn_jp8s"
      },
      "outputs": [],
      "source": [
        "select * from Table limit 10;"
      ]
    },
    {
      "cell_type": "markdown",
      "source": [
        "## 2.Write an SQL query to determine the nth (say n=5) highest salary from a table."
      ],
      "metadata": {
        "id": "2VgSwL7mkAsS"
      }
    },
    {
      "cell_type": "code",
      "source": [
        "select * from ((select * from Table order by salary desc 5) as T) order by T.salary limit 1;"
      ],
      "metadata": {
        "id": "NNEaelV9kCIV"
      },
      "execution_count": null,
      "outputs": []
    }
  ]
}