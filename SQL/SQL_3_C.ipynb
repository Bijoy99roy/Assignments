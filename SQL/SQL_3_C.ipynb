{
  "nbformat": 4,
  "nbformat_minor": 0,
  "metadata": {
    "colab": {
      "name": "SQL 3 C.ipynb",
      "provenance": []
    },
    "kernelspec": {
      "name": "python3",
      "display_name": "Python 3"
    },
    "language_info": {
      "name": "python"
    }
  },
  "cells": [
    {
      "cell_type": "markdown",
      "source": [
        "## 1.Write an SQL query to print the FIRST_NAME from Worker table after removing white spaces from the right side."
      ],
      "metadata": {
        "id": "pS-5pYQDXstJ"
      }
    },
    {
      "cell_type": "code",
      "execution_count": null,
      "metadata": {
        "id": "PwpU9cF2XkIL"
      },
      "outputs": [],
      "source": [
        "select RTRIM(FIRST_NAME) from Worker;"
      ]
    },
    {
      "cell_type": "markdown",
      "source": [
        "## 2.Write an SQL query that fetches the unique values of DEPARTMENT from Worker table and prints its length."
      ],
      "metadata": {
        "id": "8Awmt6R1YJyg"
      }
    },
    {
      "cell_type": "code",
      "source": [
        "select DISTINCT LENGTH(DEPARTMENT) from Worker;"
      ],
      "metadata": {
        "id": "svIQJu9PYOSM"
      },
      "execution_count": null,
      "outputs": []
    },
    {
      "cell_type": "markdown",
      "source": [
        "## 3.Write an SQL query to fetch nth max salaries from a table."
      ],
      "metadata": {
        "id": "U-OHrlpgYd5U"
      }
    },
    {
      "cell_type": "code",
      "source": [
        "select salary from (select * from Table order by salary desc limit n) order by salary asc limit 1;"
      ],
      "metadata": {
        "id": "3-fC7YzEYfTb"
      },
      "execution_count": null,
      "outputs": []
    }
  ]
}