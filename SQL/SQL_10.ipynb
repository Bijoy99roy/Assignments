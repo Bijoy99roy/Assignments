{
  "nbformat": 4,
  "nbformat_minor": 0,
  "metadata": {
    "colab": {
      "name": "SQL 10.ipynb",
      "provenance": []
    },
    "kernelspec": {
      "name": "python3",
      "display_name": "Python 3"
    },
    "language_info": {
      "name": "python"
    }
  },
  "cells": [
    {
      "cell_type": "markdown",
      "source": [
        "## 1.Write an SQL query to determine the 5th highest salary without using TOP or limit method.\n"
      ],
      "metadata": {
        "id": "5gJ15WKnl6_u"
      }
    },
    {
      "cell_type": "code",
      "execution_count": null,
      "metadata": {
        "id": "EsRYgyaNkxMb"
      },
      "outputs": [],
      "source": [
        "SELECT salary from Employee e1 where \n",
        "        4 = (SELECT COUNT(DISTINCT salary)from Employee e2 where e2.salary > e1.salary) "
      ]
    },
    {
      "cell_type": "markdown",
      "source": [
        "## 2.Write an SQL query to fetch the list of employees with the same salary.\n"
      ],
      "metadata": {
        "id": "IADRZdDKmAMf"
      }
    },
    {
      "cell_type": "code",
      "source": [
        "Select DISTINCT w.Id, w.Salary \n",
        "from Worker w, Worker w1 \n",
        "where w.Salary = w1.Salary \n",
        "and w.Id != w1.Id;"
      ],
      "metadata": {
        "id": "ejl7mB-El8rg"
      },
      "execution_count": null,
      "outputs": []
    }
  ]
}