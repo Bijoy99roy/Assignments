{
  "nbformat": 4,
  "nbformat_minor": 0,
  "metadata": {
    "colab": {
      "name": "SQL 4 C.ipynb",
      "provenance": []
    },
    "kernelspec": {
      "name": "python3",
      "display_name": "Python 3"
    },
    "language_info": {
      "name": "python"
    }
  },
  "cells": [
    {
      "cell_type": "markdown",
      "source": [
        "## 1.Write an SQL query to print the FIRST_NAME from Worker table after replacing ‘a’ with ‘A’."
      ],
      "metadata": {
        "id": "vpFgzb_0ZgDo"
      }
    },
    {
      "cell_type": "code",
      "execution_count": null,
      "metadata": {
        "id": "jifJlfkbZafc"
      },
      "outputs": [],
      "source": [
        "select REPLACE(FIRST_NAME, \"a\", \"A\") from Worker;"
      ]
    },
    {
      "cell_type": "markdown",
      "source": [
        "## 2.Write an SQL query to print all Worker details from the Worker table order by FIRST_NAME Ascending and DEPARTMENT Descending."
      ],
      "metadata": {
        "id": "-ZKpKMwWZ4xd"
      }
    },
    {
      "cell_type": "code",
      "source": [
        "select * from Worker order by FIRST_NAME asc, DEPARTMENT desc;"
      ],
      "metadata": {
        "id": "pV_ZMPhZZ8ND"
      },
      "execution_count": null,
      "outputs": []
    },
    {
      "cell_type": "markdown",
      "source": [
        "## 3.Write an SQL query to fetch the names of workers who earn the highest salary."
      ],
      "metadata": {
        "id": "TAskEll-aeJB"
      }
    },
    {
      "cell_type": "code",
      "source": [
        "select FIRST_NAME, LAST_NAME from Worker where salary = (select MAX(salary) from Worker);"
      ],
      "metadata": {
        "id": "KMEl8DMcaiA3"
      },
      "execution_count": null,
      "outputs": []
    }
  ]
}