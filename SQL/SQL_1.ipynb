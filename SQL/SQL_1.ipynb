{
  "nbformat": 4,
  "nbformat_minor": 0,
  "metadata": {
    "colab": {
      "name": "SQL 1.ipynb",
      "provenance": []
    },
    "kernelspec": {
      "name": "python3",
      "display_name": "Python 3"
    },
    "language_info": {
      "name": "python"
    }
  },
  "cells": [
    {
      "cell_type": "markdown",
      "source": [
        "## 1. Write an SQL query to fetch “FIRST_NAME” from Worker table using the alias name as WORKER_NAME."
      ],
      "metadata": {
        "id": "Ew9wc2ikKB7T"
      }
    },
    {
      "cell_type": "code",
      "execution_count": null,
      "metadata": {
        "id": "uMNtddknJ_cq"
      },
      "outputs": [],
      "source": [
        "select FIRST_NAME as WORKER_NAME from Worker"
      ]
    },
    {
      "cell_type": "markdown",
      "source": [
        "## 2. Write an SQL query to fetch unique values of DEPARTMENT from Worker table."
      ],
      "metadata": {
        "id": "4S3X__jMPS84"
      }
    },
    {
      "cell_type": "code",
      "source": [
        "select DISTINCT DEPARTMENT from Worker"
      ],
      "metadata": {
        "id": "aZnI2KSQPVNV"
      },
      "execution_count": null,
      "outputs": []
    },
    {
      "cell_type": "markdown",
      "source": [
        "## 3. Write an SQL query to show the last 5 record from a table.\n"
      ],
      "metadata": {
        "id": "wNhtCYXVPb4q"
      }
    },
    {
      "cell_type": "code",
      "source": [
        "select * from Worker order by id desc limit 5"
      ],
      "metadata": {
        "id": "KdCbxwIUPfNp"
      },
      "execution_count": null,
      "outputs": []
    }
  ]
}