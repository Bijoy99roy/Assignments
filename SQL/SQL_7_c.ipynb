{
  "nbformat": 4,
  "nbformat_minor": 0,
  "metadata": {
    "colab": {
      "name": "SQL 7 c.ipynb",
      "provenance": []
    },
    "kernelspec": {
      "name": "python3",
      "display_name": "Python 3"
    },
    "language_info": {
      "name": "python"
    }
  },
  "cells": [
    {
      "cell_type": "markdown",
      "source": [
        "## 1. Write an SQL query to show only odd rows from a table.\n"
      ],
      "metadata": {
        "id": "YOzQrzsWg9sW"
      }
    },
    {
      "cell_type": "code",
      "execution_count": null,
      "metadata": {
        "id": "xNLtdDxcgecB"
      },
      "outputs": [],
      "source": [
        "select * from Table where MOD(Id, 2) = 1;"
      ]
    },
    {
      "cell_type": "markdown",
      "source": [
        "## 2.Write an SQL query to clone a new table from another table."
      ],
      "metadata": {
        "id": "i6_y2ILKhHcn"
      }
    },
    {
      "cell_type": "code",
      "source": [
        "CREATE TABLE \"CLONE\" ( \n",
        "    'id' int(11) NOT NULL auto_increment, \n",
        "    'name' varchar(100) NOT NULL default '', \n",
        " );\n",
        "#Assuming this the sturcture of the original table\n",
        "insert into CLONE (id, name)  SELECT id,name from ORIGINAL; "
      ],
      "metadata": {
        "id": "54x9FzbdhI2I"
      },
      "execution_count": null,
      "outputs": []
    }
  ]
}