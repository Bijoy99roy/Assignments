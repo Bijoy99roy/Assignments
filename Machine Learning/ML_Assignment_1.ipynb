{
  "nbformat": 4,
  "nbformat_minor": 0,
  "metadata": {
    "colab": {
      "name": "ML Assignment 1.ipynb",
      "provenance": []
    },
    "kernelspec": {
      "name": "python3",
      "display_name": "Python 3"
    },
    "language_info": {
      "name": "python"
    }
  },
  "cells": [
    {
      "cell_type": "markdown",
      "metadata": {
        "id": "UNLhi3Vpcowz"
      },
      "source": [
        "##1. What does one mean by the term \"machine learning\"?"
      ]
    },
    {
      "cell_type": "code",
      "metadata": {
        "id": "kBCilBxicje7"
      },
      "source": [
        "'''\n",
        "Machine Learning is a technique to make a machine learn automatically through experience without being explicitly programmed\n",
        "'''"
      ],
      "execution_count": null,
      "outputs": []
    },
    {
      "cell_type": "markdown",
      "metadata": {
        "id": "l_UQ5b7Bc7_F"
      },
      "source": [
        "##2.Can you think of 4 distinct types of issues where it shines?"
      ]
    },
    {
      "cell_type": "code",
      "metadata": {
        "id": "lnYSyzsAc9UK"
      },
      "source": [
        "'''\n",
        "Machine learning is great for problems\n",
        "1. whose solution requires a great deal of work or a long list of rules\n",
        "2. complex problems that are hard to get a solution of using a traditional method\n",
        "3. fluctuating environments \n",
        "4. getting insights about complex problems and large data.\n",
        "'''"
      ],
      "execution_count": null,
      "outputs": []
    },
    {
      "cell_type": "markdown",
      "metadata": {
        "id": "fx9PYpgxdlZn"
      },
      "source": [
        "##3.What is a labeled training set, and how does it work?"
      ]
    },
    {
      "cell_type": "code",
      "metadata": {
        "id": "kIgu9G3mdmz-"
      },
      "source": [
        "'''\n",
        "labeled training data means data that has some outcome attached to it.\n",
        "\n",
        "it helps the machine in learning\n",
        "'''"
      ],
      "execution_count": null,
      "outputs": []
    },
    {
      "cell_type": "markdown",
      "metadata": {
        "id": "NnKPNaM8eL4X"
      },
      "source": [
        "##4.What are the two most important tasks that are supervised?\n"
      ]
    },
    {
      "cell_type": "code",
      "metadata": {
        "id": "8yaWWf5EeM1x"
      },
      "source": [
        "'''\n",
        "regression and classification\n",
        "'''"
      ],
      "execution_count": null,
      "outputs": []
    },
    {
      "cell_type": "markdown",
      "metadata": {
        "id": "2XTkyD1reYdr"
      },
      "source": [
        "##5.Can you think of four examples of unsupervised tasks?"
      ]
    },
    {
      "cell_type": "code",
      "metadata": {
        "id": "rNs8KOCPeZg4"
      },
      "source": [
        "'''\n",
        "clustering, visualization, dimensionality reduction , and association rule learning.\n",
        "'''"
      ],
      "execution_count": null,
      "outputs": []
    },
    {
      "cell_type": "markdown",
      "metadata": {
        "id": "fIKtCNDBeqd5"
      },
      "source": [
        "##6.State the machine learning model that would be best to make a robot walk through various unfamiliar terrains?\n"
      ]
    },
    {
      "cell_type": "code",
      "metadata": {
        "id": "YZGynj-OesNH"
      },
      "source": [
        "'''\n",
        "Reinforcement Learning\n",
        "'''"
      ],
      "execution_count": null,
      "outputs": []
    },
    {
      "cell_type": "markdown",
      "metadata": {
        "id": "4XqpQOFle1BY"
      },
      "source": [
        "##7.Which algorithm will you use to divide your customers into different groups?"
      ]
    },
    {
      "cell_type": "code",
      "metadata": {
        "id": "NWa3y3TDe2Ho"
      },
      "source": [
        "'''\n",
        "if it's not defined how to segment then, Clustering algorithm\n",
        "'''"
      ],
      "execution_count": null,
      "outputs": []
    },
    {
      "cell_type": "markdown",
      "metadata": {
        "id": "x3YZDjbTfO5Y"
      },
      "source": [
        "##8.Will you consider the problem of spam detection to be a supervised or unsupervised learning problem?"
      ]
    },
    {
      "cell_type": "code",
      "metadata": {
        "id": "huaUr7IBfP4-"
      },
      "source": [
        "'''\n",
        "Supervised learning\n",
        "'''"
      ],
      "execution_count": null,
      "outputs": []
    },
    {
      "cell_type": "markdown",
      "metadata": {
        "id": "b6nWXdlufX1f"
      },
      "source": [
        "##9.What is the concept of an online learning system?"
      ]
    },
    {
      "cell_type": "code",
      "metadata": {
        "id": "WiPF6tphfY9F"
      },
      "source": [
        "'''\n",
        "Online learning system is a learning system in which the machine learns as data is given in small streams continuously\n",
        "'''"
      ],
      "execution_count": null,
      "outputs": []
    },
    {
      "cell_type": "markdown",
      "metadata": {
        "id": "NDQ51uj2fj_N"
      },
      "source": [
        "##10.What is out-of-core learning, and how does it differ from core learning?"
      ]
    },
    {
      "cell_type": "code",
      "metadata": {
        "id": "YerEUUXWflOV"
      },
      "source": [
        "'''\n",
        "it is a system that can handle data that cannot fit into your computer memory. It uses online learning system to feed data in small bits.\n",
        "'''"
      ],
      "execution_count": null,
      "outputs": []
    },
    {
      "cell_type": "markdown",
      "metadata": {
        "id": "xS5cG1rdfuZh"
      },
      "source": [
        "##11.What kind of learning algorithm makes predictions using a similarity measure?"
      ]
    },
    {
      "cell_type": "code",
      "metadata": {
        "id": "36KNAMOJfvgf"
      },
      "source": [
        "'''\n",
        "INstance based learning\n",
        "'''"
      ],
      "execution_count": null,
      "outputs": []
    },
    {
      "cell_type": "markdown",
      "metadata": {
        "id": "AsjopETfgLPX"
      },
      "source": [
        "##12.What's the difference between a model parameter and a hyperparameter in a learning algorithm?\n"
      ]
    },
    {
      "cell_type": "code",
      "metadata": {
        "id": "XoB6gGaHgMSq"
      },
      "source": [
        "'''\n",
        "Model parameter determines how a model will predict given a new instance. model usually has more than one parameter.\n",
        "Hyperparameter is a parameter for the learning algorithm, not of a model.\n",
        "'''"
      ],
      "execution_count": null,
      "outputs": []
    },
    {
      "cell_type": "markdown",
      "metadata": {
        "id": "K87M59J5g0Yd"
      },
      "source": [
        "##13.What are the criteria that model-based learning algorithms look for? What is the most popular method they use to achieve success? What method do they use to make predictions?"
      ]
    },
    {
      "cell_type": "code",
      "metadata": {
        "id": "jNkJcAb1g1bL"
      },
      "source": [
        "'''\n",
        "Model based learning algorithm search for the optimal value of parameters in a model that will give the best results for the new instances.\n",
        "We often use a cost function or similar to determine what the parameter value has to be in order to minimize the function.\n",
        "The model makes prediction by using the value of the new instance and the parameters in its function.\n",
        "'''"
      ],
      "execution_count": null,
      "outputs": []
    },
    {
      "cell_type": "markdown",
      "metadata": {
        "id": "gsBkWvYcl1t6"
      },
      "source": [
        "##14.Can you name four of the most important Machine Learning challenges?\n"
      ]
    },
    {
      "cell_type": "code",
      "metadata": {
        "id": "8ueposULl2u5"
      },
      "source": [
        "'''\n",
        "1. Overgitting\n",
        "2. Underfitting\n",
        "3. Irrelevant features\n",
        "4. non-representative data\n",
        "'''"
      ],
      "execution_count": null,
      "outputs": []
    },
    {
      "cell_type": "markdown",
      "metadata": {
        "id": "xF87AJxHmW_7"
      },
      "source": [
        "##15.What happens if the model performs well on the training data but fails to generalize the results to new situations? Can you think of three different options?"
      ]
    },
    {
      "cell_type": "code",
      "metadata": {
        "id": "H0hQlNnMmZQx"
      },
      "source": [
        "'''\n",
        "It meansit's a case of overfitting. \n",
        "we can : get more data, implement a simpler model, or eliminate outliers or noise from the existing data set.\n",
        "'''"
      ],
      "execution_count": null,
      "outputs": []
    },
    {
      "cell_type": "markdown",
      "metadata": {
        "id": "CUPVoerYpETf"
      },
      "source": [
        "##16.What exactly is a test set, and why would you need one?"
      ]
    },
    {
      "cell_type": "code",
      "metadata": {
        "id": "H-WtZCXPpFoY"
      },
      "source": [
        "'''\n",
        "Test set is a set of data that's hasn't been provided to the model yet. \n",
        "Test set is necessary so that you can determine how good or bad your model performs.\n",
        "'''"
      ],
      "execution_count": null,
      "outputs": []
    },
    {
      "cell_type": "markdown",
      "metadata": {
        "id": "DnLU_Gi2pbCe"
      },
      "source": [
        "##17.What is a validation set's purpose?"
      ]
    },
    {
      "cell_type": "code",
      "metadata": {
        "id": "sNY_zMjhpb-4"
      },
      "source": [
        "'''\n",
        "Validation set is a set of data used to compare between different training models.\n",
        "'''"
      ],
      "execution_count": null,
      "outputs": []
    },
    {
      "cell_type": "markdown",
      "metadata": {
        "id": "EZM7Kevupq96"
      },
      "source": [
        "##18.What precisely is the train-dev kit, when will you need it, how do you put it to use?\n"
      ]
    },
    {
      "cell_type": "code",
      "metadata": {
        "id": "usJDgeoBpsLp"
      },
      "source": [
        "'''\n",
        "The goal of dev-set is to rank the models in term of their accuracy and helps us decide which model to proceed further with.\n",
        "'''"
      ],
      "execution_count": null,
      "outputs": []
    },
    {
      "cell_type": "markdown",
      "metadata": {
        "id": "Oxgt7iNWqo60"
      },
      "source": [
        "##19.What could go wrong if you use the test set to tune hyperparameters?"
      ]
    },
    {
      "cell_type": "code",
      "metadata": {
        "id": "nInOZeKOqqHL"
      },
      "source": [
        "'''\n",
        "If you tune hyperparameters using the test sets, then it may not perform well on the out-of-sample data because the model is tuned just for that specific set.\n",
        "'''"
      ],
      "execution_count": null,
      "outputs": []
    }
  ]
}