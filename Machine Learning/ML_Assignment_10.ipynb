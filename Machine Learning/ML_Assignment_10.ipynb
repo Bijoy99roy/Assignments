{
  "nbformat": 4,
  "nbformat_minor": 0,
  "metadata": {
    "colab": {
      "name": "ML Assignment 10.ipynb",
      "provenance": []
    },
    "kernelspec": {
      "name": "python3",
      "display_name": "Python 3"
    },
    "language_info": {
      "name": "python"
    }
  },
  "cells": [
    {
      "cell_type": "markdown",
      "metadata": {
        "id": "dGbcHCBRIcoJ"
      },
      "source": [
        "##1. Define the Bayesian interpretation of probability.\n"
      ]
    },
    {
      "cell_type": "code",
      "metadata": {
        "id": "xVhL1Ee4IZY3"
      },
      "source": [
        "'''\n",
        "In the Bayesian interpretation, probability measures a degree of belief. \n",
        "Bayes’s theorem then links the degree of belief in a proposition before and after accounting for evidence. \n",
        "For example, suppose it is believed with 50% certainty that a coin is twice as likely to land heads than tails. \n",
        "If the coin is flipped a number of times and the outcomes observed, that degree of belief may rise, fall or remain the same depending on the results.\n",
        "'''"
      ],
      "execution_count": null,
      "outputs": []
    },
    {
      "cell_type": "markdown",
      "metadata": {
        "id": "X0Hk3ijhIeNE"
      },
      "source": [
        "## 2. Define probability of a union of two events with equation."
      ]
    },
    {
      "cell_type": "code",
      "metadata": {
        "id": "Rn5whx45IkUG"
      },
      "source": [
        "'''\n",
        "Probablity of union of event A and event B is denoted by P(A U B) = P(A) + P(B) - P(A ∩ B)\n",
        "'''"
      ],
      "execution_count": null,
      "outputs": []
    },
    {
      "cell_type": "markdown",
      "metadata": {
        "id": "4adcGBEKJJlR"
      },
      "source": [
        "##3. What is joint probability? What is its formula?"
      ]
    },
    {
      "cell_type": "code",
      "metadata": {
        "id": "8rbufzggJPS3"
      },
      "source": [
        "'''\n",
        "The joint probablity is a statistical measure of the likelihood of two event happening together at the same point of time.\n",
        "it can be calculated by P(A ∩ B) = P(A) * P(B)\n",
        "'''"
      ],
      "execution_count": null,
      "outputs": []
    },
    {
      "cell_type": "markdown",
      "metadata": {
        "id": "gT07Lo8oLMxI"
      },
      "source": [
        "##4.What is chain rule of probability?"
      ]
    },
    {
      "cell_type": "code",
      "metadata": {
        "id": "eMGQDb2bLOHu"
      },
      "source": [
        "'''\n",
        "chain rule permits the calculation of any member of the joint distribution of a set of random variables using only conditional probabilities\n",
        "'''"
      ],
      "execution_count": null,
      "outputs": []
    },
    {
      "cell_type": "markdown",
      "metadata": {
        "id": "ng__Hi2JNQVh"
      },
      "source": [
        "##5. What is conditional probability means? What is the formula of it?\n"
      ]
    },
    {
      "cell_type": "code",
      "metadata": {
        "id": "EbPGWCpYNSgI"
      },
      "source": [
        "'''\n",
        "Conditional probablity is the likeihood of event A occuring based on the fact that Event B has already occured.\n",
        "It can be defined by- P(A|B) = P(A∩B) / P(B)\n",
        "'''\n"
      ],
      "execution_count": null,
      "outputs": []
    },
    {
      "cell_type": "markdown",
      "metadata": {
        "id": "ZToXbj_yOJjH"
      },
      "source": [
        "##6.What are continuous random variables?\n"
      ]
    },
    {
      "cell_type": "code",
      "metadata": {
        "id": "ub-W7AMmOLBY"
      },
      "source": [
        "'''\n",
        "A continuous random variable is one which takes an infinite number of possible values.\n",
        "Examples include height, weight, the amount of sugar in an orange, the time required to run a mile\n",
        "'''"
      ],
      "execution_count": null,
      "outputs": []
    },
    {
      "cell_type": "markdown",
      "metadata": {
        "id": "D2eZH3fwYl56"
      },
      "source": [
        "##7.What are Bernoulli distributions? What is the formula of it?\n"
      ]
    },
    {
      "cell_type": "code",
      "metadata": {
        "id": "FNu59cjGYuBr"
      },
      "source": [
        "'''\n",
        "The Bernoulli distribution is a discrete distribution having two possible outcomes labelled by n=0 and n=1 in which n=1 (\"success\") \n",
        "occurs with probability p and n=0 (\"failure\") occurs with probability q=1-p, where 0<p<1.\n",
        "it can be defined by P(X=x) = p^x(1-p)^1-x\n",
        "'''"
      ],
      "execution_count": null,
      "outputs": []
    },
    {
      "cell_type": "markdown",
      "metadata": {
        "id": "Djr9DM8HlJJO"
      },
      "source": [
        "##8.What is binomial distribution? What is the formula?\n"
      ]
    },
    {
      "cell_type": "code",
      "metadata": {
        "id": "mLaZzgqhlLGQ"
      },
      "source": [
        "'''\n",
        "The binomial distribution is a probability distribution that summarizes the likelihood that \n",
        "a value will take one of two independent values under a given set of parameters or assumptions.\n",
        "tasks must be mutually exclusive.\n",
        "it can be defined by - bin(n,k) = nCk(p)^k*(1-p)^n\n",
        "'''"
      ],
      "execution_count": null,
      "outputs": []
    },
    {
      "cell_type": "markdown",
      "metadata": {
        "id": "Vz5fF0VJuDOu"
      },
      "source": [
        "##9.What is Poisson distribution? What is the formula?\n"
      ]
    },
    {
      "cell_type": "code",
      "metadata": {
        "id": "RmxnDD1JuE6L"
      },
      "source": [
        "'''\n",
        "In statistics, a Poisson distribution is a probability distribution that \n",
        "can be used to show how many times an event is likely to occur within a specified period of time.\n",
        "it can be defined by - f(x) = lambda^x*e^-lambda/x!\n",
        "'''"
      ],
      "execution_count": null,
      "outputs": []
    },
    {
      "cell_type": "markdown",
      "metadata": {
        "id": "gpA1PaF0zqxp"
      },
      "source": [
        "##10. Define covariance."
      ]
    },
    {
      "cell_type": "code",
      "metadata": {
        "id": "DGtidUxzzsIz"
      },
      "source": [
        "'''\n",
        "It is a measure of relationship between two random variables.\n",
        "it tells us how one variable changes with respect to other\n",
        "'''"
      ],
      "execution_count": null,
      "outputs": []
    },
    {
      "cell_type": "markdown",
      "metadata": {
        "id": "sKnEyiQZ0lEq"
      },
      "source": [
        "##11. Define correlation"
      ]
    },
    {
      "cell_type": "code",
      "metadata": {
        "id": "HEMVdXnJ0mfZ"
      },
      "source": [
        "'''\n",
        "It is a measure of relationship between two random variables.\n",
        "it tells us to which degree one variable moves with respect to other\n",
        "'''"
      ],
      "execution_count": null,
      "outputs": []
    },
    {
      "cell_type": "markdown",
      "metadata": {
        "id": "B_8uZ7yx021q"
      },
      "source": [
        "##12. Define sampling with replacement. Give example."
      ]
    },
    {
      "cell_type": "code",
      "metadata": {
        "id": "NplcDoeB04LA"
      },
      "source": [
        "'''\n",
        "In this, each item drawn from the sample space is replaced back into the sample space. \n",
        "Hence the sample space remains the same for all the items drawn from it.\n",
        "\n",
        "eg- consider in a bag there are 5 balls with 5 different colors. now if we pick one ball and replace the same color ball with another one. then the probablity of choosing\n",
        "each ball doesn't change.\n",
        "'''"
      ],
      "execution_count": null,
      "outputs": []
    },
    {
      "cell_type": "markdown",
      "metadata": {
        "id": "wr5CliL357lC"
      },
      "source": [
        "##13. What is sampling without replacement? Give example."
      ]
    },
    {
      "cell_type": "code",
      "metadata": {
        "id": "LL3xxRKY53rf"
      },
      "source": [
        "'''\n",
        "In this, any two sample values drawn will be independent. In other words, \n",
        "the probability of the first item does not affect the probability of the second item being drawn.\n",
        "\n",
        "eg-consider in a bag there are 5 balls with 5 different colors. now if we pick one ball. Now we have 4 balls in the bag and there is no chance of getting the same ball \n",
        "twice\n",
        "'''"
      ],
      "execution_count": null,
      "outputs": []
    },
    {
      "cell_type": "markdown",
      "metadata": {
        "id": "msWywlAh_0hM"
      },
      "source": [
        "##14. What is hypothesis? Give example."
      ]
    },
    {
      "cell_type": "code",
      "metadata": {
        "colab": {
          "base_uri": "https://localhost:8080/",
          "height": 54
        },
        "id": "w2bg42Z__2YP",
        "outputId": "1064f09e-3319-4367-dafb-0222c66c4e35"
      },
      "source": [
        "'''\n",
        "A hypothesis is an assumption, an idea proposed for the sake of argument so that it can be tested see if it might be true.\n",
        "\n",
        "eg - if you give give 5 hour of time daily in learning you will be able to learn ML/DL.\n",
        "\n",
        "now this can be tested using various methods\n",
        "'''"
      ],
      "execution_count": null,
      "outputs": [
        {
          "output_type": "execute_result",
          "data": {
            "application/vnd.google.colaboratory.intrinsic+json": {
              "type": "string"
            },
            "text/plain": [
              "'\\nA hypothesis is an assumption, an idea proposed for the sake of argument so that it can be tested see if it might be true.\\n\\neg - if you give give 5 hour of time daily in learning you will be able to learn ML/DL.\\n\\n'"
            ]
          },
          "metadata": {
            "tags": []
          },
          "execution_count": 1
        }
      ]
    }
  ]
}